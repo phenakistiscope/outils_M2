{
 "cells": [
  {
   "cell_type": "markdown",
   "metadata": {},
   "source": [
    "## Face detection with OpenCv's Cascade Classifier\n",
    "\n",
    "Non-Neural Network face detector. Try parameters in \"face_cascade.detectMultiScale()\"\n"
   ]
  },
  {
   "cell_type": "code",
   "execution_count": 1,
   "metadata": {},
   "outputs": [],
   "source": [
    "import cv2\n",
    "import numpy\n",
    "import os\n",
    "import matplotlib\n",
    "import matplotlib.pyplot as plt"
   ]
  },
  {
   "cell_type": "code",
   "execution_count": 2,
   "metadata": {},
   "outputs": [],
   "source": [
    "folder = ' ' # choose a folder\n",
    "filenames = os.listdir(folder)\n",
    "name_out = ' ' # name for the new folder\n",
    "face_cascade = cv2.CascadeClassifier('cascade/haarcascade_frontalface_default.xml') # path to this precise file"
   ]
  },
  {
   "cell_type": "code",
   "execution_count": 3,
   "metadata": {},
   "outputs": [],
   "source": [
    "# create new folder if doesn't exist\n",
    "\n",
    "path_rec = name_out\n",
    "if not os.path.isdir(path_rec):  \n",
    "    os.mkdir(path_rec)"
   ]
  },
  {
   "cell_type": "code",
   "execution_count": 4,
   "metadata": {},
   "outputs": [],
   "source": [
    "# apply cascade classifier and save images in the new folder\n",
    "\n",
    "for filename in os.listdir(folder):\n",
    "    if filename.endswith('.jpg'):\n",
    "        file_path = os.path.join(folder, filename)\n",
    "        image = cv2.imread(file_path)\n",
    "        gray = cv2.cvtColor(image, cv2.COLOR_BGR2GRAY)\n",
    "        scaleFactor=1.05\n",
    "        minNeighbors=6\n",
    "        faces = face_cascade.detectMultiScale(gray, scaleFactor, minNeighbors)\n",
    "        for i in faces:\n",
    "            if i is not None:\n",
    "                result_path = os.path.join(path_rec, filename) "
   ]
  },
  {
   "cell_type": "code",
   "execution_count": 5,
   "metadata": {
    "scrolled": true
   },
   "outputs": [
    {
     "name": "stdout",
     "output_type": "stream",
     "text": [
      "0.0% of images may contain face(s) with scaleFactor : 1.05 + minNeighbors : 6\n"
     ]
    }
   ],
   "source": [
    "# get percentage of images classified (folders need to only have images)\n",
    "\n",
    "a = (100 / int(len(os.listdir(folder)))) * int(len(os.listdir(path_rec)))\n",
    "print(str(round(a, 2))+ \"% of images may contain face(s) with scaleFactor : \" + str(scaleFactor) + ' + minNeighbors : ' + str(minNeighbors))"
   ]
  },
  {
   "cell_type": "code",
   "execution_count": null,
   "metadata": {},
   "outputs": [],
   "source": [
    "# save informations\n",
    "\n",
    "with open( name_out +'.txt', 'w') as b:\n",
    "        b.write(str(round(a, 2))+ \"% of images may contain face(s) with scaleFactor : \" + str(scaleFactor) + ' + minNeighbors : ' + str(minNeighbors))\n"
   ]
  },
  {
   "cell_type": "code",
   "execution_count": 6,
   "metadata": {},
   "outputs": [],
   "source": [
    "## Variables informations\n",
    "\n",
    "#TruePositives\n",
    "tp = 0\n",
    "\n",
    "#TrueNegatives\n",
    "tn = 0\n",
    "\n",
    "#FalseNegatives\n",
    "fn = 25\n",
    "\n",
    "#FalsePositives\n",
    "fp = 25\n",
    "\n"
   ]
  },
  {
   "cell_type": "code",
   "execution_count": 7,
   "metadata": {},
   "outputs": [
    {
     "name": "stdout",
     "output_type": "stream",
     "text": [
      "Accuracy is at 0.0 %\n"
     ]
    }
   ],
   "source": [
    "# Accuracy\n",
    "\n",
    "a = round(((tp + tn)/(tp + tn + fn + fp))*100, 2)\n",
    "print(f\"Accuracy is at {a} %\")"
   ]
  },
  {
   "cell_type": "code",
   "execution_count": 8,
   "metadata": {},
   "outputs": [
    {
     "name": "stdout",
     "output_type": "stream",
     "text": [
      "Recall is at 0.0 %\n"
     ]
    }
   ],
   "source": [
    "# Recall\n",
    "\n",
    "r = round((tp /(tp + fn))*100, 2)\n",
    "print(f\"Recall is at {r} %\")"
   ]
  },
  {
   "cell_type": "code",
   "execution_count": 9,
   "metadata": {},
   "outputs": [
    {
     "name": "stdout",
     "output_type": "stream",
     "text": [
      "Precision is at 0.0 %\n"
     ]
    }
   ],
   "source": [
    "# Precision\n",
    "\n",
    "p = round((tp /(tp + fp))*100, 2)\n",
    "print(f\"Precision is at {p} %\")"
   ]
  },
  {
   "cell_type": "code",
   "execution_count": null,
   "metadata": {},
   "outputs": [],
   "source": []
  }
 ],
 "metadata": {
  "kernelspec": {
   "display_name": "img",
   "language": "python",
   "name": "img"
  },
  "language_info": {
   "codemirror_mode": {
    "name": "ipython",
    "version": 3
   },
   "file_extension": ".py",
   "mimetype": "text/x-python",
   "name": "python",
   "nbconvert_exporter": "python",
   "pygments_lexer": "ipython3",
   "version": "3.8.7"
  }
 },
 "nbformat": 4,
 "nbformat_minor": 4
}
