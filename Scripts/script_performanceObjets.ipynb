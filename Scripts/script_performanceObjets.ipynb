{
 "cells": [
  {
   "cell_type": "markdown",
   "id": "minus-anaheim",
   "metadata": {},
   "source": [
    "# Precision of the algorithme on detecting objects from classes\n",
    "\n",
    "**Plan**\n",
    "\n",
    "* Look at most common objects \n",
    "* Make corpuses with 50 images for the 3 more importante categories\n",
    "* Analyse precision (TruePositives / TruePositives + FalsePositives)\n"
   ]
  },
  {
   "cell_type": "code",
   "execution_count": 16,
   "id": "every-poison",
   "metadata": {},
   "outputs": [],
   "source": [
    "import cv2\n",
    "import os, shutil\n",
    "import pandas as pd\n",
    "import numpy as np\n",
    "from tqdm import tqdm\n",
    "from collections import Counter\n",
    "import json\n",
    "from PIL import Image\n",
    "import matplotlib.pyplot as plt"
   ]
  },
  {
   "cell_type": "code",
   "execution_count": 12,
   "id": "terminal-purple",
   "metadata": {},
   "outputs": [
    {
     "data": {
      "text/plain": [
       "{0: 'BG',\n",
       " 1: 'person',\n",
       " 2: 'bicycle',\n",
       " 3: 'car',\n",
       " 4: 'motorcycle',\n",
       " 5: 'airplane',\n",
       " 6: 'bus',\n",
       " 7: 'train',\n",
       " 8: 'truck',\n",
       " 9: 'boat',\n",
       " 10: 'traffic light',\n",
       " 11: 'fire hydrant',\n",
       " 12: 'stop sign',\n",
       " 13: 'parking meter',\n",
       " 14: 'bench',\n",
       " 15: 'bird',\n",
       " 16: 'cat',\n",
       " 17: 'dog',\n",
       " 18: 'horse',\n",
       " 19: 'sheep',\n",
       " 20: 'cow',\n",
       " 21: 'elephant',\n",
       " 22: 'bear',\n",
       " 23: 'zebra',\n",
       " 24: 'giraffe',\n",
       " 25: 'backpack',\n",
       " 26: 'umbrella',\n",
       " 27: 'handbag',\n",
       " 28: 'tie',\n",
       " 29: 'suitcase',\n",
       " 30: 'frisbee',\n",
       " 31: 'skis',\n",
       " 32: 'snowboard',\n",
       " 33: 'sports ball',\n",
       " 34: 'kite',\n",
       " 35: 'baseball bat',\n",
       " 36: 'baseball glove',\n",
       " 37: 'skateboard',\n",
       " 38: 'surfboard',\n",
       " 39: 'tennis racket',\n",
       " 40: 'bottle',\n",
       " 41: 'wine glass',\n",
       " 42: 'cup',\n",
       " 43: 'fork',\n",
       " 44: 'knife',\n",
       " 45: 'spoon',\n",
       " 46: 'bowl',\n",
       " 47: 'banana',\n",
       " 48: 'apple',\n",
       " 49: 'sandwich',\n",
       " 50: 'orange',\n",
       " 51: 'broccoli',\n",
       " 52: 'carrot',\n",
       " 53: 'hot dog',\n",
       " 54: 'pizza',\n",
       " 55: 'donut',\n",
       " 56: 'cake',\n",
       " 57: 'chair',\n",
       " 58: 'couch',\n",
       " 59: 'potted plant',\n",
       " 60: 'bed',\n",
       " 61: 'dining table',\n",
       " 62: 'toilet',\n",
       " 63: 'tv',\n",
       " 64: 'laptop',\n",
       " 65: 'mouse',\n",
       " 66: 'remote',\n",
       " 67: 'keyboard',\n",
       " 68: 'cell phone',\n",
       " 69: 'microwave',\n",
       " 70: 'oven',\n",
       " 71: 'toaster',\n",
       " 72: 'sink',\n",
       " 73: 'refrigerator',\n",
       " 74: 'book',\n",
       " 75: 'clock',\n",
       " 76: 'vase',\n",
       " 77: 'scissors',\n",
       " 78: 'teddy bear',\n",
       " 79: 'hair drier',\n",
       " 80: 'toothbrush'}"
      ]
     },
     "execution_count": 12,
     "metadata": {},
     "output_type": "execute_result"
    }
   ],
   "source": [
    "class_names = ['BG', 'person', 'bicycle', 'car', 'motorcycle', 'airplane',\n",
    "               'bus', 'train', 'truck', 'boat', 'traffic light',\n",
    "               'fire hydrant', 'stop sign', 'parking meter', 'bench', 'bird',\n",
    "               'cat', 'dog', 'horse', 'sheep', 'cow', 'elephant', 'bear',\n",
    "               'zebra', 'giraffe', 'backpack', 'umbrella', 'handbag', 'tie',\n",
    "               'suitcase', 'frisbee', 'skis', 'snowboard', 'sports ball',\n",
    "               'kite', 'baseball bat', 'baseball glove', 'skateboard',\n",
    "               'surfboard', 'tennis racket', 'bottle', 'wine glass', 'cup',\n",
    "               'fork', 'knife', 'spoon', 'bowl', 'banana', 'apple',\n",
    "               'sandwich', 'orange', 'broccoli', 'carrot', 'hot dog', 'pizza',\n",
    "               'donut', 'cake', 'chair', 'couch', 'potted plant', 'bed',\n",
    "               'dining table', 'toilet', 'tv', 'laptop', 'mouse', 'remote',\n",
    "               'keyboard', 'cell phone', 'microwave', 'oven', 'toaster',\n",
    "               'sink', 'refrigerator', 'book', 'clock', 'vase', 'scissors',\n",
    "               'teddy bear', 'hair drier', 'toothbrush']\n",
    "\n",
    "class_id = range(0,81)\n",
    "class_dict = dict(zip(class_id, class_names))\n",
    "df_class = pd.DataFrame.from_dict(class_dict, orient ='index', columns=['Class'])\n",
    "df_class.reset_index(inplace=True)\n",
    "df_class = df_class.rename(columns = {'index':'ID'})\n",
    "class_dict"
   ]
  },
  {
   "cell_type": "markdown",
   "id": "wrong-question",
   "metadata": {},
   "source": [
    "**Look at most common classe detected by the Mask-RCNN**\n",
    "\n",
    "As we are looking at people fisrt, then we have to look at objects linked to people in one image. For both corpus, art and esoterisme"
   ]
  },
  {
   "cell_type": "code",
   "execution_count": 3,
   "id": "increasing-bearing",
   "metadata": {},
   "outputs": [
    {
     "name": "stderr",
     "output_type": "stream",
     "text": [
      "100%|██████████| 22386/22386 [00:16<00:00, 1319.96it/s]"
     ]
    },
    {
     "name": "stdout",
     "output_type": "stream",
     "text": [
      "Number of files containing at least one body : 3364\n"
     ]
    },
    {
     "name": "stderr",
     "output_type": "stream",
     "text": [
      "\n"
     ]
    }
   ],
   "source": [
    "#Get all files with a person\n",
    "\n",
    "pE =  ' '\n",
    "pers_filesE = []\n",
    "for root, dirs, files in os.walk(pE):\n",
    "    for f in tqdm(files):\n",
    "        if f.endswith('1.json'):\n",
    "            data = json.load(open(root+'/' + os.path.splitext(f)[0] +'.json', 'r'))\n",
    "            pers_filesE.append(data['image_id'])\n",
    "\n",
    "print(f'Number of files containing at least one body : {len(pers_filesE)}')"
   ]
  },
  {
   "cell_type": "code",
   "execution_count": 4,
   "id": "driven-component",
   "metadata": {},
   "outputs": [
    {
     "name": "stderr",
     "output_type": "stream",
     "text": [
      "100%|██████████| 45388/45388 [00:29<00:00, 1550.11it/s]"
     ]
    },
    {
     "name": "stdout",
     "output_type": "stream",
     "text": [
      "Number of files containing at least one body : 7275\n"
     ]
    },
    {
     "name": "stderr",
     "output_type": "stream",
     "text": [
      "\n"
     ]
    }
   ],
   "source": [
    "#Get all files with a person\n",
    "\n",
    "pA =  ' '\n",
    "pers_filesA = []\n",
    "for r, d, fi in os.walk(pA):\n",
    "    for fl in tqdm(fi):\n",
    "        if fl.endswith('1.json'):\n",
    "            data = json.load(open(r+'/' + os.path.splitext(fl)[0] +'.json', 'r'))\n",
    "            pers_filesA.append(data['image_id'])\n",
    "\n",
    "print(f'Number of files containing at least one body : {len(pers_filesA)}')"
   ]
  },
  {
   "cell_type": "code",
   "execution_count": 5,
   "id": "arbitrary-wedding",
   "metadata": {},
   "outputs": [
    {
     "name": "stderr",
     "output_type": "stream",
     "text": [
      "100%|██████████| 22386/22386 [00:01<00:00, 17604.88it/s]"
     ]
    },
    {
     "name": "stdout",
     "output_type": "stream",
     "text": [
      "10472\n"
     ]
    },
    {
     "name": "stderr",
     "output_type": "stream",
     "text": [
      "\n"
     ]
    }
   ],
   "source": [
    "#Get all objects linked to a body in an image\n",
    "\n",
    "obj_filesE = []\n",
    "ext = ['1.json', '1.jpeg']\n",
    "for root, dirs, files in os.walk(pE):\n",
    "    for f in tqdm(files):\n",
    "        if not f.endswith(tuple(ext)):\n",
    "            if f.startswith(tuple(pers_filesE)):\n",
    "                obj_filesE.append(f)\n",
    "                \n",
    "print(len(obj_filesE))"
   ]
  },
  {
   "cell_type": "code",
   "execution_count": 6,
   "id": "precise-nevada",
   "metadata": {},
   "outputs": [
    {
     "name": "stderr",
     "output_type": "stream",
     "text": [
      "100%|██████████| 45388/45388 [00:05<00:00, 7822.36it/s] "
     ]
    },
    {
     "name": "stdout",
     "output_type": "stream",
     "text": [
      "21751\n"
     ]
    },
    {
     "name": "stderr",
     "output_type": "stream",
     "text": [
      "\n"
     ]
    }
   ],
   "source": [
    "#Get all objects linked to a body in an image\n",
    "\n",
    "obj_filesA = []\n",
    "ext = ['1.json', '1.jpeg']\n",
    "for r, d, fi in os.walk(pA):\n",
    "    for fl in tqdm(fi):\n",
    "        if not fl.endswith(tuple(ext)):\n",
    "            if fl.startswith(tuple(pers_filesA)):\n",
    "                obj_filesA.append(fl)\n",
    "                \n",
    "print(len(obj_filesA))"
   ]
  },
  {
   "cell_type": "code",
   "execution_count": 7,
   "id": "compatible-tanzania",
   "metadata": {},
   "outputs": [],
   "source": [
    "ff=[]\n",
    "for f in obj_filesE:\n",
    "    ff.append(f[-6:-4])\n",
    "    for i, v in enumerate(ff):\n",
    "        if v.startswith('_'):\n",
    "            ff[i] = v.replace(v, v[1])\n",
    "        if v.endswith('.'):\n",
    "            ff[i] = v.replace(v, v[0])"
   ]
  },
  {
   "cell_type": "code",
   "execution_count": 8,
   "id": "responsible-meaning",
   "metadata": {},
   "outputs": [],
   "source": [
    "fs=[]\n",
    "for f in obj_filesA:\n",
    "    fs.append(f[-6:-4])\n",
    "    for i, v in enumerate(fs):\n",
    "        if v.startswith('_'):\n",
    "            fs[i] = v.replace(v, v[1])\n",
    "        if v.endswith('.'):\n",
    "            fs[i] = v.replace(v, v[0])"
   ]
  },
  {
   "cell_type": "code",
   "execution_count": 9,
   "id": "silent-excuse",
   "metadata": {},
   "outputs": [
    {
     "data": {
      "text/html": [
       "<div>\n",
       "<style scoped>\n",
       "    .dataframe tbody tr th:only-of-type {\n",
       "        vertical-align: middle;\n",
       "    }\n",
       "\n",
       "    .dataframe tbody tr th {\n",
       "        vertical-align: top;\n",
       "    }\n",
       "\n",
       "    .dataframe thead th {\n",
       "        text-align: right;\n",
       "    }\n",
       "</style>\n",
       "<table border=\"1\" class=\"dataframe\">\n",
       "  <thead>\n",
       "    <tr style=\"text-align: right;\">\n",
       "      <th></th>\n",
       "      <th>ID</th>\n",
       "      <th>Count Esoterisme</th>\n",
       "    </tr>\n",
       "  </thead>\n",
       "  <tbody>\n",
       "    <tr>\n",
       "      <th>0</th>\n",
       "      <td>1</td>\n",
       "      <td>2864</td>\n",
       "    </tr>\n",
       "    <tr>\n",
       "      <th>19</th>\n",
       "      <td>6</td>\n",
       "      <td>598</td>\n",
       "    </tr>\n",
       "    <tr>\n",
       "      <th>2</th>\n",
       "      <td>7</td>\n",
       "      <td>503</td>\n",
       "    </tr>\n",
       "    <tr>\n",
       "      <th>13</th>\n",
       "      <td>8</td>\n",
       "      <td>501</td>\n",
       "    </tr>\n",
       "    <tr>\n",
       "      <th>6</th>\n",
       "      <td>0</td>\n",
       "      <td>437</td>\n",
       "    </tr>\n",
       "    <tr>\n",
       "      <th>...</th>\n",
       "      <td>...</td>\n",
       "      <td>...</td>\n",
       "    </tr>\n",
       "    <tr>\n",
       "      <th>73</th>\n",
       "      <td>13</td>\n",
       "      <td>3</td>\n",
       "    </tr>\n",
       "    <tr>\n",
       "      <th>49</th>\n",
       "      <td>22</td>\n",
       "      <td>3</td>\n",
       "    </tr>\n",
       "    <tr>\n",
       "      <th>14</th>\n",
       "      <td>23</td>\n",
       "      <td>2</td>\n",
       "    </tr>\n",
       "    <tr>\n",
       "      <th>76</th>\n",
       "      <td>32</td>\n",
       "      <td>2</td>\n",
       "    </tr>\n",
       "    <tr>\n",
       "      <th>78</th>\n",
       "      <td>49</td>\n",
       "      <td>2</td>\n",
       "    </tr>\n",
       "  </tbody>\n",
       "</table>\n",
       "<p>79 rows × 2 columns</p>\n",
       "</div>"
      ],
      "text/plain": [
       "    ID  Count Esoterisme\n",
       "0    1              2864\n",
       "19   6               598\n",
       "2    7               503\n",
       "13   8               501\n",
       "6    0               437\n",
       "..  ..               ...\n",
       "73  13                 3\n",
       "49  22                 3\n",
       "14  23                 2\n",
       "76  32                 2\n",
       "78  49                 2\n",
       "\n",
       "[79 rows x 2 columns]"
      ]
     },
     "execution_count": 9,
     "metadata": {},
     "output_type": "execute_result"
    }
   ],
   "source": [
    "#Count classes per corpus\n",
    "\n",
    "a = Counter(ff)\n",
    "df_count = pd.DataFrame.from_dict(a, orient ='index', columns=['Count Esoterisme'])\n",
    "df_count.reset_index(inplace=True)\n",
    "df_count = df_count.rename(columns = {'index':'ID'})\n",
    "df_count = df_count.astype('int64')\n",
    "df_count.sort_values(by='Count Esoterisme', ascending=False)"
   ]
  },
  {
   "cell_type": "code",
   "execution_count": 10,
   "id": "previous-waters",
   "metadata": {},
   "outputs": [
    {
     "data": {
      "text/html": [
       "<div>\n",
       "<style scoped>\n",
       "    .dataframe tbody tr th:only-of-type {\n",
       "        vertical-align: middle;\n",
       "    }\n",
       "\n",
       "    .dataframe tbody tr th {\n",
       "        vertical-align: top;\n",
       "    }\n",
       "\n",
       "    .dataframe thead th {\n",
       "        text-align: right;\n",
       "    }\n",
       "</style>\n",
       "<table border=\"1\" class=\"dataframe\">\n",
       "  <thead>\n",
       "    <tr style=\"text-align: right;\">\n",
       "      <th></th>\n",
       "      <th>ID</th>\n",
       "      <th>Count Art</th>\n",
       "    </tr>\n",
       "  </thead>\n",
       "  <tbody>\n",
       "    <tr>\n",
       "      <th>0</th>\n",
       "      <td>1</td>\n",
       "      <td>6092</td>\n",
       "    </tr>\n",
       "    <tr>\n",
       "      <th>9</th>\n",
       "      <td>6</td>\n",
       "      <td>1092</td>\n",
       "    </tr>\n",
       "    <tr>\n",
       "      <th>4</th>\n",
       "      <td>7</td>\n",
       "      <td>1087</td>\n",
       "    </tr>\n",
       "    <tr>\n",
       "      <th>2</th>\n",
       "      <td>8</td>\n",
       "      <td>948</td>\n",
       "    </tr>\n",
       "    <tr>\n",
       "      <th>6</th>\n",
       "      <td>9</td>\n",
       "      <td>876</td>\n",
       "    </tr>\n",
       "    <tr>\n",
       "      <th>...</th>\n",
       "      <td>...</td>\n",
       "      <td>...</td>\n",
       "    </tr>\n",
       "    <tr>\n",
       "      <th>74</th>\n",
       "      <td>22</td>\n",
       "      <td>9</td>\n",
       "    </tr>\n",
       "    <tr>\n",
       "      <th>80</th>\n",
       "      <td>53</td>\n",
       "      <td>8</td>\n",
       "    </tr>\n",
       "    <tr>\n",
       "      <th>73</th>\n",
       "      <td>79</td>\n",
       "      <td>3</td>\n",
       "    </tr>\n",
       "    <tr>\n",
       "      <th>78</th>\n",
       "      <td>69</td>\n",
       "      <td>3</td>\n",
       "    </tr>\n",
       "    <tr>\n",
       "      <th>79</th>\n",
       "      <td>71</td>\n",
       "      <td>1</td>\n",
       "    </tr>\n",
       "  </tbody>\n",
       "</table>\n",
       "<p>81 rows × 2 columns</p>\n",
       "</div>"
      ],
      "text/plain": [
       "    ID  Count Art\n",
       "0    1       6092\n",
       "9    6       1092\n",
       "4    7       1087\n",
       "2    8        948\n",
       "6    9        876\n",
       "..  ..        ...\n",
       "74  22          9\n",
       "80  53          8\n",
       "73  79          3\n",
       "78  69          3\n",
       "79  71          1\n",
       "\n",
       "[81 rows x 2 columns]"
      ]
     },
     "execution_count": 10,
     "metadata": {},
     "output_type": "execute_result"
    }
   ],
   "source": [
    "#Count classes per corpus\n",
    "\n",
    "aa = Counter(fs)\n",
    "df_countA = pd.DataFrame.from_dict(aa, orient ='index', columns=['Count Art'])\n",
    "df_countA.reset_index(inplace=True)\n",
    "df_countA = df_countA.rename(columns = {'index':'ID'})\n",
    "df_countA = df_countA.astype('int64')\n",
    "df_countA.sort_values(by='Count Art', ascending=False)"
   ]
  },
  {
   "cell_type": "code",
   "execution_count": 13,
   "id": "prostate-mississippi",
   "metadata": {},
   "outputs": [],
   "source": [
    "#Merge\n",
    "\n",
    "dff = pd.merge(df_class, df_count, on=['ID','ID'])\n",
    "df = pd.merge(dff, df_countA, on=['ID','ID'])\n",
    "\n",
    "#Add percentage of files with a class for all the images\n",
    "\n",
    "df['Esoterisme (%)'] = round((df_count['Count Esoterisme'] / len(obj_filesE))*100, 2)\n",
    "df['Art (%)'] = round((df_countA['Count Art'] / len(obj_filesA))*100, 2)\n",
    "\n",
    "df = df[['Class', 'Esoterisme (%)', 'Art (%)']]"
   ]
  },
  {
   "cell_type": "code",
   "execution_count": 38,
   "id": "genuine-green",
   "metadata": {},
   "outputs": [
    {
     "data": {
      "image/png": "[encoded data removed]",
      "text/plain": [
       "<Figure size 1584x864 with 1 Axes>"
      ]
     },
     "metadata": {
      "needs_background": "light"
     },
     "output_type": "display_data"
    }
   ],
   "source": [
    "df.sort_values(['Esoterisme (%)', 'Art (%)'],ascending=False, inplace=True)\n",
    "ax = df.set_index(\"Class\").plot(kind = \"bar\", figsize=(22,12))\n",
    "ax.set_xlabel(\"Classes\", fontsize=16)\n",
    "plt.title(\"Pourcentage des objets contenus dans les images contenant des personnes \", fontsize=16)\n",
    "plt.xticks(\n",
    "    rotation=45, \n",
    "    horizontalalignment='right',\n",
    "    fontsize=15)\n",
    "#plt.savefig('object_people.svg')"
   ]
  },
  {
   "cell_type": "markdown",
   "id": "atlantic-elevation",
   "metadata": {},
   "source": [
    "After BG (background), who's a bit large for a class, the most common classes seems to be:\n",
    "\n",
    "* Sheep (eso)\n",
    "* Motorcycle (art)\n",
    "* Boat (art)\n",
    "* Bicycle (art + eso)\n",
    "* Bus (art + eso)"
   ]
  },
  {
   "cell_type": "code",
   "execution_count": 21,
   "id": "experimental-enforcement",
   "metadata": {},
   "outputs": [
    {
     "data": {
      "text/plain": [
       "{0: 'BG',\n",
       " 1: 'person',\n",
       " 2: 'bicycle',\n",
       " 3: 'car',\n",
       " 4: 'motorcycle',\n",
       " 5: 'airplane',\n",
       " 6: 'bus',\n",
       " 7: 'train',\n",
       " 8: 'truck',\n",
       " 9: 'boat',\n",
       " 10: 'traffic light',\n",
       " 11: 'fire hydrant',\n",
       " 12: 'stop sign',\n",
       " 13: 'parking meter',\n",
       " 14: 'bench',\n",
       " 15: 'bird',\n",
       " 16: 'cat',\n",
       " 17: 'dog',\n",
       " 18: 'horse',\n",
       " 19: 'sheep',\n",
       " 20: 'cow',\n",
       " 21: 'elephant',\n",
       " 22: 'bear',\n",
       " 23: 'zebra',\n",
       " 24: 'giraffe',\n",
       " 25: 'backpack',\n",
       " 26: 'umbrella',\n",
       " 27: 'handbag',\n",
       " 28: 'tie',\n",
       " 29: 'suitcase',\n",
       " 30: 'frisbee',\n",
       " 31: 'skis',\n",
       " 32: 'snowboard',\n",
       " 33: 'sports ball',\n",
       " 34: 'kite',\n",
       " 35: 'baseball bat',\n",
       " 36: 'baseball glove',\n",
       " 37: 'skateboard',\n",
       " 38: 'surfboard',\n",
       " 39: 'tennis racket',\n",
       " 40: 'bottle',\n",
       " 41: 'wine glass',\n",
       " 42: 'cup',\n",
       " 43: 'fork',\n",
       " 44: 'knife',\n",
       " 45: 'spoon',\n",
       " 46: 'bowl',\n",
       " 47: 'banana',\n",
       " 48: 'apple',\n",
       " 49: 'sandwich',\n",
       " 50: 'orange',\n",
       " 51: 'broccoli',\n",
       " 52: 'carrot',\n",
       " 53: 'hot dog',\n",
       " 54: 'pizza',\n",
       " 55: 'donut',\n",
       " 56: 'cake',\n",
       " 57: 'chair',\n",
       " 58: 'couch',\n",
       " 59: 'potted plant',\n",
       " 60: 'bed',\n",
       " 61: 'dining table',\n",
       " 62: 'toilet',\n",
       " 63: 'tv',\n",
       " 64: 'laptop',\n",
       " 65: 'mouse',\n",
       " 66: 'remote',\n",
       " 67: 'keyboard',\n",
       " 68: 'cell phone',\n",
       " 69: 'microwave',\n",
       " 70: 'oven',\n",
       " 71: 'toaster',\n",
       " 72: 'sink',\n",
       " 73: 'refrigerator',\n",
       " 74: 'book',\n",
       " 75: 'clock',\n",
       " 76: 'vase',\n",
       " 77: 'scissors',\n",
       " 78: 'teddy bear',\n",
       " 79: 'hair drier',\n",
       " 80: 'toothbrush'}"
      ]
     },
     "execution_count": 21,
     "metadata": {},
     "output_type": "execute_result"
    }
   ],
   "source": [
    "class_dict"
   ]
  },
  {
   "cell_type": "markdown",
   "id": "suffering-midnight",
   "metadata": {},
   "source": [
    "**Create folder with each one of theses**"
   ]
  },
  {
   "cell_type": "code",
   "execution_count": 19,
   "id": "innocent-potential",
   "metadata": {},
   "outputs": [],
   "source": [
    "def Request(path_in: str, path_out: str, classID:int, class_dict):\n",
    "    \n",
    "    if not os.path.isdir(path_out):\n",
    "        os.mkdir(path_out)\n",
    "\n",
    "    c = classID\n",
    "    ext = ['.jpg', '.jpeg', '.json', '.png']\n",
    "    len_folder = []\n",
    "    for root, dirs, files in os.walk(path_in):\n",
    "        for f in tqdm(files):\n",
    "            ff, fj = os.path.splitext(f)\n",
    "            if fj.endswith(tuple(ext)):\n",
    "                if ff.endswith('_' + str(c)):\n",
    "                    filepath = os.path.join(root, f)\n",
    "                    path_save = os.path.join(path_out + '/' +f)\n",
    "                    path_from = os.path.join(root + '/' + f)\n",
    "                    os.stat(path_out).st_mode\n",
    "                    len_folder.append(f)\n",
    "                    shutil.copy(path_from, path_save)\n",
    "            else:\n",
    "                continue\n",
    "                \n",
    "    for key,value in class_dict.items():\n",
    "        if key == int(c):\n",
    "            v = value\n",
    "\n",
    "    print(f'Done !\\n{len(len_folder)} images for class :' + str(v))"
   ]
  },
  {
   "cell_type": "code",
   "execution_count": 26,
   "id": "enhanced-expansion",
   "metadata": {},
   "outputs": [
    {
     "name": "stdin",
     "output_type": "stream",
     "text": [
      "Enter path in :  ../M_venus/corpus_esoterism_mask\n",
      "Enter path out :  ../M_venus/corpus_esoterism_maskC6\n",
      "Enter Class ID :  6\n"
     ]
    },
    {
     "name": "stderr",
     "output_type": "stream",
     "text": [
      "100%|██████████| 22386/22386 [00:00<00:00, 120099.68it/s]"
     ]
    },
    {
     "name": "stdout",
     "output_type": "stream",
     "text": [
      "Done !\n",
      "12 images for class :bus\n"
     ]
    },
    {
     "name": "stderr",
     "output_type": "stream",
     "text": [
      "\n"
     ]
    }
   ],
   "source": [
    "Request(path_in= input('Enter path in : '), path_out=input('Enter path out : '), classID=input('Enter Class ID : '), class_dict=class_dict)"
   ]
  },
  {
   "cell_type": "markdown",
   "id": "found-theme",
   "metadata": {},
   "source": [
    "**Compute precision**"
   ]
  },
  {
   "cell_type": "code",
   "execution_count": 28,
   "id": "lesbian-premium",
   "metadata": {},
   "outputs": [
    {
     "name": "stdout",
     "output_type": "stream",
     "text": [
      "Precision for sheep is at 26.32 %\n"
     ]
    }
   ],
   "source": [
    "#Sheep (19) - 19/19 images \n",
    "\n",
    "tp = 5\n",
    "fp = 14\n",
    "\n",
    "psheep = round((tp /(tp + fp))*100, 2)\n",
    "print(f\"Precision for sheep is at {psheep} %\")"
   ]
  },
  {
   "cell_type": "code",
   "execution_count": 29,
   "id": "seeing-emerald",
   "metadata": {},
   "outputs": [
    {
     "name": "stdout",
     "output_type": "stream",
     "text": [
      "Precision for motorcycle is at 28.0 %\n"
     ]
    }
   ],
   "source": [
    "#Motorcycle (4) - 50/72 images \n",
    "\n",
    "tp = 14\n",
    "fp = 36\n",
    "\n",
    "pmot = round((tp /(tp + fp))*100, 2)\n",
    "print(f\"Precision for motorcycle is at {pmot} %\")"
   ]
  },
  {
   "cell_type": "code",
   "execution_count": 33,
   "id": "hungarian-breathing",
   "metadata": {},
   "outputs": [
    {
     "name": "stdout",
     "output_type": "stream",
     "text": [
      "Precision for boat is at 4.0 %\n"
     ]
    }
   ],
   "source": [
    "#Boat (9) - 50/268 images \n",
    "\n",
    "tp = 2\n",
    "fp = 48\n",
    "\n",
    "pboat = round((tp /(tp + fp))*100, 2)\n",
    "print(f\"Precision for boat is at {pboat} %\")"
   ]
  },
  {
   "cell_type": "code",
   "execution_count": 34,
   "id": "appreciated-asthma",
   "metadata": {},
   "outputs": [
    {
     "name": "stdout",
     "output_type": "stream",
     "text": [
      "Precision for bicycle is at 24.0 %\n"
     ]
    }
   ],
   "source": [
    "#Bicycle (2) - 50/74 images \n",
    "\n",
    "tp = 12\n",
    "fp = 38\n",
    "\n",
    "p = round((tp /(tp + fp))*100, 2)\n",
    "print(f\"Precision for bicycle is at {p} %\")"
   ]
  },
  {
   "cell_type": "code",
   "execution_count": 35,
   "id": "concerned-potato",
   "metadata": {},
   "outputs": [
    {
     "name": "stdout",
     "output_type": "stream",
     "text": [
      "Precision for bus is at 0.0 %\n"
     ]
    }
   ],
   "source": [
    "#Bus (6) - 6/6 images \n",
    "\n",
    "tp = 0\n",
    "fp = 6\n",
    "\n",
    "p = round((tp /(tp + fp))*100, 2)\n",
    "print(f\"Precision for bus is at {p} %\")"
   ]
  },
  {
   "cell_type": "code",
   "execution_count": null,
   "id": "oriental-strand",
   "metadata": {},
   "outputs": [],
   "source": []
  }
 ],
 "metadata": {
  "kernelspec": {
   "display_name": "Python 3",
   "language": "python",
   "name": "python3"
  },
  "language_info": {
   "codemirror_mode": {
    "name": "ipython",
    "version": 3
   },
   "file_extension": ".py",
   "mimetype": "text/x-python",
   "name": "python",
   "nbconvert_exporter": "python",
   "pygments_lexer": "ipython3",
   "version": "3.8.7"
  }
 },
 "nbformat": 4,
 "nbformat_minor": 5
}
