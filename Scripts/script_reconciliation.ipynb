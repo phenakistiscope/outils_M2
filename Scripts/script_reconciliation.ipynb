{
 "cells": [
  {
   "cell_type": "markdown",
   "id": "located-halloween",
   "metadata": {},
   "source": [
    "## Table reconciliation from R\n",
    "\n",
    "* Join text and metadatas\n",
    "* Homogeneisation (dates and coutries)"
   ]
  },
  {
   "cell_type": "code",
   "execution_count": 4,
   "id": "acting-portsmouth",
   "metadata": {},
   "outputs": [],
   "source": [
    "#Import librairies\n",
    "\n",
    "import pandas as pd\n",
    "import re\n",
    "import numpy as np"
   ]
  },
  {
   "cell_type": "code",
   "execution_count": 2,
   "id": "convertible-frontier",
   "metadata": {},
   "outputs": [],
   "source": [
    "#Text table from R\n",
    "\n",
    "df = pd.read_csv(' ')\n",
    "df = df.drop('Unnamed: 0', 1) # drop unwanted column\n",
    "df = df.dropna() # drop rows without hashtags\n",
    "df['split'] = df.txt.apply(lambda x: len(str(x).split())) # add column with sum of hashtags per row"
   ]
  },
  {
   "cell_type": "code",
   "execution_count": 5,
   "id": "understanding-scholarship",
   "metadata": {},
   "outputs": [],
   "source": [
    "#Metadatas table from R\n",
    "\n",
    "dff = pd.read_csv(' ')\n",
    "df_iso = pd.read_csv(\"C1_iso.csv\") # geographic indications\n",
    "dff = pd.merge(df_iso, dff, on='country',how='outer')\n",
    "dff['date'] = pd.to_datetime(dff['date']) # time indications\n",
    "dff['year'] = pd.DatetimeIndex(dff.date).year\n",
    "dff['month'] = pd.DatetimeIndex(dff.date).month\n",
    "dff['day'] = pd.DatetimeIndex(dff.date).day\n",
    "dff = dff.drop('Unnamed: 0_x', 1)\n",
    "dff = dff.drop('Unnamed: 0_y', 1)\n",
    "dff.id = np.around(dff['id'], decimals=1)"
   ]
  },
  {
   "cell_type": "code",
   "execution_count": 40,
   "id": "sought-cabinet",
   "metadata": {},
   "outputs": [],
   "source": [
    "#Create table\n",
    "\n",
    "dataf = pd.merge(dff, df, on = \"id\")\n",
    "#dataf.to_csv('venus_table.csv') #"
   ]
  }
 ],
 "metadata": {
  "kernelspec": {
   "display_name": "Python 3",
   "language": "python",
   "name": "python3"
  },
  "language_info": {
   "codemirror_mode": {
    "name": "ipython",
    "version": 3
   },
   "file_extension": ".py",
   "mimetype": "text/x-python",
   "name": "python",
   "nbconvert_exporter": "python",
   "pygments_lexer": "ipython3",
   "version": "3.8.7"
  }
 },
 "nbformat": 4,
 "nbformat_minor": 5
}
