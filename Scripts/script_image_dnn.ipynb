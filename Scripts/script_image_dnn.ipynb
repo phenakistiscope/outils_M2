{
 "cells": [
  {
   "cell_type": "markdown",
   "metadata": {},
   "source": [
    "## Face detection with OpenCv's Dnn\n",
    "\n",
    "From a folder select images, crop them and apply face detection model. Try some parameters.  \n",
    "Then save all images who contain faces into a new folder."
   ]
  },
  {
   "cell_type": "code",
   "execution_count": 2,
   "metadata": {},
   "outputs": [],
   "source": [
    "import cv2\n",
    "import numpy as np\n",
    "import os\n",
    "import matplotlib\n",
    "import matplotlib.pyplot as plt\n",
    "import pandas as pd\n",
    "from tqdm import tqdm"
   ]
  },
  {
   "cell_type": "code",
   "execution_count": 3,
   "metadata": {},
   "outputs": [],
   "source": [
    "folder = '' # select folder\n",
    "name_out = '' # name for the new folder\n",
    "path_rec = name_out # create new folder, where images will be saved\n",
    "if not os.path.isdir(path_rec):\n",
    "    os.mkdir(path_rec)"
   ]
  },
  {
   "cell_type": "code",
   "execution_count": 5,
   "metadata": {},
   "outputs": [],
   "source": [
    "# prepare model, give path for theses files below\n",
    "\n",
    "prototxt_path = \"dnn/deploy.prototxt\"\n",
    "model_path = \"dnn/res10_300x300_ssd_iter_140000_fp16.caffemodel\"\n",
    "model = cv2.dnn.readNetFromCaffe(prototxt_path, model_path) # load Caffe model"
   ]
  },
  {
   "cell_type": "code",
   "execution_count": 7,
   "metadata": {},
   "outputs": [
    {
     "name": "stderr",
     "output_type": "stream",
     "text": [
      "\n",
      "  0%|          | 0/51 [00:00<?, ?it/s]\u001b[A\n",
      "  4%|▍         | 2/51 [00:00<00:12,  3.99it/s]\u001b[A\n",
      "  6%|▌         | 3/51 [00:00<00:09,  5.25it/s]\u001b[A\n",
      "  8%|▊         | 4/51 [00:00<00:07,  5.91it/s]\u001b[A\n",
      " 12%|█▏        | 6/51 [00:00<00:05,  8.01it/s]\u001b[A\n",
      " 16%|█▌        | 8/51 [00:01<00:05,  8.49it/s]\u001b[A\n",
      " 20%|█▉        | 10/51 [00:01<00:04, 10.09it/s]\u001b[A\n",
      " 24%|██▎       | 12/51 [00:01<00:03, 10.65it/s]\u001b[A\n",
      " 27%|██▋       | 14/51 [00:01<00:03, 11.14it/s]\u001b[A\n",
      " 31%|███▏      | 16/51 [00:01<00:03, 11.32it/s]\u001b[A\n",
      " 35%|███▌      | 18/51 [00:01<00:02, 12.03it/s]\u001b[A\n",
      " 39%|███▉      | 20/51 [00:02<00:02, 12.06it/s]\u001b[A\n",
      " 43%|████▎     | 22/51 [00:02<00:02, 11.49it/s]\u001b[A\n",
      " 47%|████▋     | 24/51 [00:02<00:02, 11.53it/s]\u001b[A\n",
      " 51%|█████     | 26/51 [00:02<00:02, 10.75it/s]\u001b[A\n",
      " 55%|█████▍    | 28/51 [00:02<00:02, 10.92it/s]\u001b[A\n",
      " 59%|█████▉    | 30/51 [00:02<00:01, 12.19it/s]\u001b[A\n",
      " 63%|██████▎   | 32/51 [00:03<00:01,  9.98it/s]\u001b[A\n",
      " 67%|██████▋   | 34/51 [00:03<00:01, 10.13it/s]\u001b[A\n",
      " 71%|███████   | 36/51 [00:03<00:01, 10.45it/s]\u001b[A\n",
      " 75%|███████▍  | 38/51 [00:03<00:01, 10.57it/s]\u001b[A\n",
      " 78%|███████▊  | 40/51 [00:03<00:01, 10.79it/s]\u001b[A\n",
      " 82%|████████▏ | 42/51 [00:04<00:00, 11.69it/s]\u001b[A\n",
      " 86%|████████▋ | 44/51 [00:04<00:00, 12.37it/s]\u001b[A\n",
      " 90%|█████████ | 46/51 [00:04<00:00, 13.06it/s]\u001b[A\n",
      " 94%|█████████▍| 48/51 [00:04<00:00, 13.60it/s]\u001b[A\n",
      "100%|██████████| 51/51 [00:04<00:00, 10.63it/s]\u001b[A\n"
     ]
    }
   ],
   "source": [
    "# apply Dnn classifier and save in a new folder\n",
    "\n",
    "conf = []\n",
    "filenames = os.listdir(folder)\n",
    "for filename in tqdm(os.listdir(folder)):\n",
    "    if filename.endswith('.jpg'):\n",
    "        file_path = os.path.join(folder, filename)\n",
    "        image = cv2.imread(file_path)\n",
    "        h, w = image.shape[:2]\n",
    "        blob = cv2.dnn.blobFromImage(image, 1.0, (300, 300), (104.0, 177.0, 123.0)) # resize and mean substraction\n",
    "        model.setInput(blob) \n",
    "        output = np.squeeze(model.forward())\n",
    "        for i in range(0, output.shape[0]):\n",
    "            confidence = output[i, 2] # get the confidence\n",
    "            conf.append(confidence)\n",
    "            #Plot(x = conf)\n",
    "            threshold = 0.7 # select confidence threshold\n",
    "            if confidence > threshold: \n",
    "                result_path = os.path.join(path_rec, filename)\n",
    "                cv2.imwrite(result_path, image)"
   ]
  },
  {
   "cell_type": "code",
   "execution_count": 8,
   "metadata": {},
   "outputs": [
    {
     "name": "stdout",
     "output_type": "stream",
     "text": [
      "15.69% of images may contain face(s) with threshold : 0.7\n"
     ]
    }
   ],
   "source": [
    "# Get percentage of images classified (folders need to only have images)\n",
    "\n",
    "a = (100 / int(len(os.listdir(folder)))) * int(len(os.listdir(path_rec)))\n",
    "print(str(round(a, 2))+ \"% of images may contain face(s) with threshold : \" + str(threshold))"
   ]
  },
  {
   "cell_type": "code",
   "execution_count": 20,
   "metadata": {},
   "outputs": [],
   "source": [
    "# Confidence above 70%\n",
    "conf07 = []\n",
    "for i in conf:\n",
    "    if i >= 0.7:\n",
    "        conf07.append(i)"
   ]
  },
  {
   "cell_type": "code",
   "execution_count": 29,
   "metadata": {},
   "outputs": [],
   "source": [
    "# plot and estimate confidence treshold\n",
    "\n",
    "def Plot (x):\n",
    "    \n",
    "    fig, ax = plt.subplots()\n",
    "    ax.hist(x, bins=100,color='b',alpha=0.8, histtype=\"barstacked\", label = \"Confidence\")\n",
    "    ax.set(xlabel='% of confidence', ylabel='Confidence per image',\n",
    "            title='Confidence above 70%')\n",
    "    plt.show()\n",
    "    return fig"
   ]
  },
  {
   "cell_type": "code",
   "execution_count": 30,
   "metadata": {},
   "outputs": [
    {
     "data": {
      "image/png": "[encoded data removed]",
      "text/plain": [
       "<Figure size 432x288 with 1 Axes>"
      ]
     },
     "metadata": {
      "needs_background": "light"
     },
     "output_type": "display_data"
    },
    {
     "data": {
      "image/png": "[encoded data removed]",
      "text/plain": [
       "<Figure size 432x288 with 1 Axes>"
      ]
     },
     "execution_count": 30,
     "metadata": {},
     "output_type": "execute_result"
    }
   ],
   "source": [
    "Plot(x = conf07)"
   ]
  },
  {
   "cell_type": "code",
   "execution_count": null,
   "metadata": {},
   "outputs": [],
   "source": [
    "# Save informations\n",
    "\n",
    "with open( name_out +'.txt', 'w') as b:\n",
    "        b.write((str(round(a, 2))+ \"% of images may contain face(s)\"))\n",
    "        \n",
    "Plot(x = conf).savefig(name_out + \".svg\")"
   ]
  },
  {
   "cell_type": "code",
   "execution_count": 11,
   "metadata": {},
   "outputs": [],
   "source": [
    "## Variables informations\n",
    "\n",
    "#TruePositives\n",
    "tp = 7\n",
    "\n",
    "#TrueNegatives\n",
    "tn = 1\n",
    "\n",
    "#FalseNegatives\n",
    "fn = 24\n",
    "\n",
    "#FalsePositives\n",
    "fp = 18\n",
    "\n",
    "\n"
   ]
  },
  {
   "cell_type": "code",
   "execution_count": 12,
   "metadata": {},
   "outputs": [
    {
     "name": "stdout",
     "output_type": "stream",
     "text": [
      "Accuracy is at 16.0 %\n"
     ]
    }
   ],
   "source": [
    "# Accuracy\n",
    "\n",
    "a = round(((tp + tn)/(tp + tn + fn + fp))*100, 2)\n",
    "print(f\"Accuracy is at {a} %\")"
   ]
  },
  {
   "cell_type": "code",
   "execution_count": 13,
   "metadata": {},
   "outputs": [
    {
     "name": "stdout",
     "output_type": "stream",
     "text": [
      "Recall is at 22.58 %\n"
     ]
    }
   ],
   "source": [
    "# Recall\n",
    "\n",
    "r = round((tp /(tp + fn))*100, 2)\n",
    "print(f\"Recall is at {r} %\")"
   ]
  },
  {
   "cell_type": "code",
   "execution_count": 14,
   "metadata": {},
   "outputs": [
    {
     "name": "stdout",
     "output_type": "stream",
     "text": [
      "Precision is at 28.0 %\n"
     ]
    }
   ],
   "source": [
    "# Precision\n",
    "\n",
    "p = round((tp /(tp + fp))*100, 2)\n",
    "print(f\"Precision is at {p} %\")"
   ]
  },
  {
   "cell_type": "code",
   "execution_count": null,
   "metadata": {},
   "outputs": [],
   "source": []
  }
 ],
 "metadata": {
  "kernelspec": {
   "display_name": "img",
   "language": "python",
   "name": "img"
  },
  "language_info": {
   "codemirror_mode": {
    "name": "ipython",
    "version": 3
   },
   "file_extension": ".py",
   "mimetype": "text/x-python",
   "name": "python",
   "nbconvert_exporter": "python",
   "pygments_lexer": "ipython3",
   "version": "3.8.7"
  }
 },
 "nbformat": 4,
 "nbformat_minor": 4
}
