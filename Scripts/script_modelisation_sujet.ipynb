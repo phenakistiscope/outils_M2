{
 "cells": [
  {
   "cell_type": "markdown",
   "metadata": {},
   "source": [
    "## Script for topic modelling on hashtags\n",
    "\n",
    "* LDA models\n",
    "* Number of topics\n",
    "* Consistency\n",
    "* Word count \n",
    "* Distribution\n",
    "* LDA visualisation\n",
    "\n",
    "*Special thanks to Leo Dray for explaining and share is model of topic modelling (made for anticipation litterature) and Michel Capot for his precious advices*\n"
   ]
  },
  {
   "cell_type": "code",
   "execution_count": 1,
   "metadata": {},
   "outputs": [
    {
     "name": "stdout",
     "output_type": "stream",
     "text": [
      "3.6.9\n"
     ]
    }
   ],
   "source": [
    "# Use the correct environnement - python 3.6.9 is recommended with the packages below\n",
    "\n",
    "from platform import python_version\n",
    "print(python_version())"
   ]
  },
  {
   "cell_type": "code",
   "execution_count": 2,
   "metadata": {},
   "outputs": [],
   "source": [
    "import pandas as pd\n",
    "import os\n",
    "import io\n",
    "import re\n",
    "from typing import List\n",
    "import numpy as np\n",
    "import gensim\n",
    "from gensim import corpora, models\n",
    "from gensim.models import CoherenceModel\n",
    "from gensim.corpora.mmcorpus import MmCorpus\n",
    "from gensim.test.utils import datapath\n",
    "from pprintpp import pprint\n",
    "import matplotlib.pyplot as plt\n",
    "import matplotlib.colors as mcolors\n",
    "import matplotlib.ticker as ticker\n",
    "from collections import Counter\n",
    "from wordcloud import WordCloud\n",
    "from sklearn.manifold import TSNE\n",
    "from bokeh.plotting import figure, output_file, show\n",
    "from bokeh.models import Label\n",
    "from bokeh.io import output_notebook\n",
    "import pyLDAvis.gensim\n",
    "from tqdm import tqdm\n",
    "import Pyro4"
   ]
  },
  {
   "cell_type": "markdown",
   "metadata": {},
   "source": [
    "## 1) Dataframe manipulation\n",
    "\n",
    "* Import and prepare dataframe\n",
    "* Possibly try different length of hashtags per posts (is it significant in the analysis ?)\n",
    "* Transform it to a list of words\n",
    "* Save the list to a file/ Load another file than a datafram"
   ]
  },
  {
   "cell_type": "code",
   "execution_count": 3,
   "metadata": {
    "scrolled": true
   },
   "outputs": [
    {
     "data": {
      "text/html": [
       "<div>\n",
       "<style scoped>\n",
       "    .dataframe tbody tr th:only-of-type {\n",
       "        vertical-align: middle;\n",
       "    }\n",
       "\n",
       "    .dataframe tbody tr th {\n",
       "        vertical-align: top;\n",
       "    }\n",
       "\n",
       "    .dataframe thead th {\n",
       "        text-align: right;\n",
       "    }\n",
       "</style>\n",
       "<table border=\"1\" class=\"dataframe\">\n",
       "  <thead>\n",
       "    <tr style=\"text-align: right;\">\n",
       "      <th></th>\n",
       "      <th>Unnamed: 0.1</th>\n",
       "      <th>name</th>\n",
       "      <th>country</th>\n",
       "      <th>street</th>\n",
       "      <th>zip</th>\n",
       "      <th>city_one</th>\n",
       "      <th>city_two</th>\n",
       "      <th>region</th>\n",
       "      <th>date</th>\n",
       "      <th>likes</th>\n",
       "      <th>...</th>\n",
       "      <th>id</th>\n",
       "      <th>year</th>\n",
       "      <th>month</th>\n",
       "      <th>day</th>\n",
       "      <th>txt</th>\n",
       "      <th>split</th>\n",
       "      <th>0</th>\n",
       "      <th>1</th>\n",
       "      <th>2</th>\n",
       "      <th>3</th>\n",
       "    </tr>\n",
       "  </thead>\n",
       "  <tbody>\n",
       "    <tr>\n",
       "      <th>0</th>\n",
       "      <td>49</td>\n",
       "      <td>Algeria</td>\n",
       "      <td>DZ</td>\n",
       "      <td>90</td>\n",
       "      <td>NaN</td>\n",
       "      <td>El Kala</td>\n",
       "      <td>NaN</td>\n",
       "      <td>NaN</td>\n",
       "      <td>2020-08-04</td>\n",
       "      <td>37.0</td>\n",
       "      <td>...</td>\n",
       "      <td>2.020080e+13</td>\n",
       "      <td>2020.0</td>\n",
       "      <td>8.0</td>\n",
       "      <td>4.0</td>\n",
       "      <td>venus parfum parfume beautiful beauty santé co...</td>\n",
       "      <td>23</td>\n",
       "      <td>0.157386</td>\n",
       "      <td>0.000000</td>\n",
       "      <td>0.826356</td>\n",
       "      <td>0.000000</td>\n",
       "    </tr>\n",
       "    <tr>\n",
       "      <th>1</th>\n",
       "      <td>56</td>\n",
       "      <td>Algeria</td>\n",
       "      <td>DZ</td>\n",
       "      <td>80,rue du 17 Septembre 1956</td>\n",
       "      <td>09100</td>\n",
       "      <td>Oulad Ya\\u00efch</td>\n",
       "      <td>Blida</td>\n",
       "      <td>NaN</td>\n",
       "      <td>2020-08-17</td>\n",
       "      <td>31.0</td>\n",
       "      <td>...</td>\n",
       "      <td>2.020082e+13</td>\n",
       "      <td>2020.0</td>\n",
       "      <td>8.0</td>\n",
       "      <td>17.0</td>\n",
       "      <td>laboratoires moussededouchevenus جمال جمال gel...</td>\n",
       "      <td>17</td>\n",
       "      <td>0.157389</td>\n",
       "      <td>0.000000</td>\n",
       "      <td>0.826353</td>\n",
       "      <td>0.000000</td>\n",
       "    </tr>\n",
       "    <tr>\n",
       "      <th>2</th>\n",
       "      <td>138</td>\n",
       "      <td>Argentina</td>\n",
       "      <td>AR</td>\n",
       "      <td>NaN</td>\n",
       "      <td>B 6000</td>\n",
       "      <td>Jun\\u00edn</td>\n",
       "      <td>Buenos Aires</td>\n",
       "      <td>NaN</td>\n",
       "      <td>2020-04-29</td>\n",
       "      <td>11.0</td>\n",
       "      <td>...</td>\n",
       "      <td>2.020043e+13</td>\n",
       "      <td>2020.0</td>\n",
       "      <td>4.0</td>\n",
       "      <td>29.0</td>\n",
       "      <td>planetas planetavenus venus</td>\n",
       "      <td>3</td>\n",
       "      <td>0.018152</td>\n",
       "      <td>0.018171</td>\n",
       "      <td>0.943400</td>\n",
       "      <td>0.020277</td>\n",
       "    </tr>\n",
       "    <tr>\n",
       "      <th>3</th>\n",
       "      <td>349</td>\n",
       "      <td>Argentina</td>\n",
       "      <td>AR</td>\n",
       "      <td>NaN</td>\n",
       "      <td>NaN</td>\n",
       "      <td>NaN</td>\n",
       "      <td>NaN</td>\n",
       "      <td>Ciudad Aut\\u00f3noma de Buenos Aires</td>\n",
       "      <td>2020-07-24</td>\n",
       "      <td>462.0</td>\n",
       "      <td>...</td>\n",
       "      <td>2.020072e+13</td>\n",
       "      <td>2020.0</td>\n",
       "      <td>7.0</td>\n",
       "      <td>24.0</td>\n",
       "      <td>sol leo virgo libra marte aries mercurio cánce...</td>\n",
       "      <td>20</td>\n",
       "      <td>0.134974</td>\n",
       "      <td>0.012781</td>\n",
       "      <td>0.839083</td>\n",
       "      <td>0.013162</td>\n",
       "    </tr>\n",
       "    <tr>\n",
       "      <th>4</th>\n",
       "      <td>392</td>\n",
       "      <td>Argentina</td>\n",
       "      <td>AR</td>\n",
       "      <td>NaN</td>\n",
       "      <td>NaN</td>\n",
       "      <td>Boedo</td>\n",
       "      <td>NaN</td>\n",
       "      <td>NaN</td>\n",
       "      <td>2020-08-13</td>\n",
       "      <td>24.0</td>\n",
       "      <td>...</td>\n",
       "      <td>2.020081e+13</td>\n",
       "      <td>2020.0</td>\n",
       "      <td>8.0</td>\n",
       "      <td>13.0</td>\n",
       "      <td>sailorvenus venus sailorv sailorvenusedit sail...</td>\n",
       "      <td>30</td>\n",
       "      <td>0.000000</td>\n",
       "      <td>0.000000</td>\n",
       "      <td>0.934627</td>\n",
       "      <td>0.047140</td>\n",
       "    </tr>\n",
       "    <tr>\n",
       "      <th>...</th>\n",
       "      <td>...</td>\n",
       "      <td>...</td>\n",
       "      <td>...</td>\n",
       "      <td>...</td>\n",
       "      <td>...</td>\n",
       "      <td>...</td>\n",
       "      <td>...</td>\n",
       "      <td>...</td>\n",
       "      <td>...</td>\n",
       "      <td>...</td>\n",
       "      <td>...</td>\n",
       "      <td>...</td>\n",
       "      <td>...</td>\n",
       "      <td>...</td>\n",
       "      <td>...</td>\n",
       "      <td>...</td>\n",
       "      <td>...</td>\n",
       "      <td>...</td>\n",
       "      <td>...</td>\n",
       "      <td>...</td>\n",
       "      <td>...</td>\n",
       "    </tr>\n",
       "    <tr>\n",
       "      <th>6180</th>\n",
       "      <td>53979</td>\n",
       "      <td>Namibia</td>\n",
       "      <td>NaN</td>\n",
       "      <td>NaN</td>\n",
       "      <td>NaN</td>\n",
       "      <td>NaN</td>\n",
       "      <td>NaN</td>\n",
       "      <td>NaN</td>\n",
       "      <td>2020-05-09</td>\n",
       "      <td>18.0</td>\n",
       "      <td>...</td>\n",
       "      <td>2.020051e+13</td>\n",
       "      <td>2020.0</td>\n",
       "      <td>5.0</td>\n",
       "      <td>9.0</td>\n",
       "      <td>venus venere dove deadellabellezza goddess gre...</td>\n",
       "      <td>18</td>\n",
       "      <td>0.000000</td>\n",
       "      <td>0.000000</td>\n",
       "      <td>0.832052</td>\n",
       "      <td>0.151625</td>\n",
       "    </tr>\n",
       "    <tr>\n",
       "      <th>6181</th>\n",
       "      <td>53981</td>\n",
       "      <td>Namibia</td>\n",
       "      <td>NaN</td>\n",
       "      <td>NaN</td>\n",
       "      <td>NaN</td>\n",
       "      <td>NaN</td>\n",
       "      <td>NaN</td>\n",
       "      <td>NaN</td>\n",
       "      <td>2020-05-09</td>\n",
       "      <td>32.0</td>\n",
       "      <td>...</td>\n",
       "      <td>2.020051e+13</td>\n",
       "      <td>2020.0</td>\n",
       "      <td>5.0</td>\n",
       "      <td>9.0</td>\n",
       "      <td>orgonit orgoniti orgon orgonskaenergija orgons...</td>\n",
       "      <td>33</td>\n",
       "      <td>0.024402</td>\n",
       "      <td>0.000000</td>\n",
       "      <td>0.959000</td>\n",
       "      <td>0.000000</td>\n",
       "    </tr>\n",
       "    <tr>\n",
       "      <th>6182</th>\n",
       "      <td>54063</td>\n",
       "      <td>Namibia</td>\n",
       "      <td>NaN</td>\n",
       "      <td>NaN</td>\n",
       "      <td>NaN</td>\n",
       "      <td>NaN</td>\n",
       "      <td>NaN</td>\n",
       "      <td>NaN</td>\n",
       "      <td>2020-05-09</td>\n",
       "      <td>19.0</td>\n",
       "      <td>...</td>\n",
       "      <td>2.020051e+13</td>\n",
       "      <td>2020.0</td>\n",
       "      <td>5.0</td>\n",
       "      <td>9.0</td>\n",
       "      <td>theemperor venus jupiter tzadkielangel swordfe...</td>\n",
       "      <td>29</td>\n",
       "      <td>0.000000</td>\n",
       "      <td>0.107232</td>\n",
       "      <td>0.840710</td>\n",
       "      <td>0.043940</td>\n",
       "    </tr>\n",
       "    <tr>\n",
       "      <th>6183</th>\n",
       "      <td>54100</td>\n",
       "      <td>Namibia</td>\n",
       "      <td>NaN</td>\n",
       "      <td>NaN</td>\n",
       "      <td>NaN</td>\n",
       "      <td>NaN</td>\n",
       "      <td>NaN</td>\n",
       "      <td>NaN</td>\n",
       "      <td>2020-05-09</td>\n",
       "      <td>10.0</td>\n",
       "      <td>...</td>\n",
       "      <td>2.020051e+13</td>\n",
       "      <td>2020.0</td>\n",
       "      <td>5.0</td>\n",
       "      <td>9.0</td>\n",
       "      <td>semtabu lubrificantes produtoseroticos hotflow...</td>\n",
       "      <td>18</td>\n",
       "      <td>0.000000</td>\n",
       "      <td>0.000000</td>\n",
       "      <td>0.975708</td>\n",
       "      <td>0.000000</td>\n",
       "    </tr>\n",
       "    <tr>\n",
       "      <th>6184</th>\n",
       "      <td>54126</td>\n",
       "      <td>Namibia</td>\n",
       "      <td>NaN</td>\n",
       "      <td>NaN</td>\n",
       "      <td>NaN</td>\n",
       "      <td>NaN</td>\n",
       "      <td>NaN</td>\n",
       "      <td>NaN</td>\n",
       "      <td>2020-05-09</td>\n",
       "      <td>37.0</td>\n",
       "      <td>...</td>\n",
       "      <td>2.020051e+13</td>\n",
       "      <td>2020.0</td>\n",
       "      <td>5.0</td>\n",
       "      <td>9.0</td>\n",
       "      <td>02 인천 팔로워 맞팔 노보시비르스크 sunflowe quarantine siber...</td>\n",
       "      <td>22</td>\n",
       "      <td>0.000000</td>\n",
       "      <td>0.000000</td>\n",
       "      <td>0.942392</td>\n",
       "      <td>0.041269</td>\n",
       "    </tr>\n",
       "  </tbody>\n",
       "</table>\n",
       "<p>6185 rows × 21 columns</p>\n",
       "</div>"
      ],
      "text/plain": [
       "      Unnamed: 0.1       name country                       street     zip  \\\n",
       "0               49    Algeria      DZ                           90     NaN   \n",
       "1               56    Algeria      DZ  80,rue du 17 Septembre 1956   09100   \n",
       "2              138  Argentina      AR                          NaN  B 6000   \n",
       "3              349  Argentina      AR                          NaN     NaN   \n",
       "4              392  Argentina      AR                          NaN     NaN   \n",
       "...            ...        ...     ...                          ...     ...   \n",
       "6180         53979    Namibia     NaN                          NaN     NaN   \n",
       "6181         53981    Namibia     NaN                          NaN     NaN   \n",
       "6182         54063    Namibia     NaN                          NaN     NaN   \n",
       "6183         54100    Namibia     NaN                          NaN     NaN   \n",
       "6184         54126    Namibia     NaN                          NaN     NaN   \n",
       "\n",
       "              city_one      city_two                                region  \\\n",
       "0              El Kala           NaN                                   NaN   \n",
       "1     Oulad Ya\\u00efch         Blida                                   NaN   \n",
       "2           Jun\\u00edn  Buenos Aires                                   NaN   \n",
       "3                  NaN           NaN  Ciudad Aut\\u00f3noma de Buenos Aires   \n",
       "4                Boedo           NaN                                   NaN   \n",
       "...                ...           ...                                   ...   \n",
       "6180               NaN           NaN                                   NaN   \n",
       "6181               NaN           NaN                                   NaN   \n",
       "6182               NaN           NaN                                   NaN   \n",
       "6183               NaN           NaN                                   NaN   \n",
       "6184               NaN           NaN                                   NaN   \n",
       "\n",
       "            date  likes  ...            id    year  month   day  \\\n",
       "0     2020-08-04   37.0  ...  2.020080e+13  2020.0    8.0   4.0   \n",
       "1     2020-08-17   31.0  ...  2.020082e+13  2020.0    8.0  17.0   \n",
       "2     2020-04-29   11.0  ...  2.020043e+13  2020.0    4.0  29.0   \n",
       "3     2020-07-24  462.0  ...  2.020072e+13  2020.0    7.0  24.0   \n",
       "4     2020-08-13   24.0  ...  2.020081e+13  2020.0    8.0  13.0   \n",
       "...          ...    ...  ...           ...     ...    ...   ...   \n",
       "6180  2020-05-09   18.0  ...  2.020051e+13  2020.0    5.0   9.0   \n",
       "6181  2020-05-09   32.0  ...  2.020051e+13  2020.0    5.0   9.0   \n",
       "6182  2020-05-09   19.0  ...  2.020051e+13  2020.0    5.0   9.0   \n",
       "6183  2020-05-09   10.0  ...  2.020051e+13  2020.0    5.0   9.0   \n",
       "6184  2020-05-09   37.0  ...  2.020051e+13  2020.0    5.0   9.0   \n",
       "\n",
       "                                                    txt split         0  \\\n",
       "0     venus parfum parfume beautiful beauty santé co...    23  0.157386   \n",
       "1     laboratoires moussededouchevenus جمال جمال gel...    17  0.157389   \n",
       "2                           planetas planetavenus venus     3  0.018152   \n",
       "3     sol leo virgo libra marte aries mercurio cánce...    20  0.134974   \n",
       "4     sailorvenus venus sailorv sailorvenusedit sail...    30  0.000000   \n",
       "...                                                 ...   ...       ...   \n",
       "6180  venus venere dove deadellabellezza goddess gre...    18  0.000000   \n",
       "6181  orgonit orgoniti orgon orgonskaenergija orgons...    33  0.024402   \n",
       "6182  theemperor venus jupiter tzadkielangel swordfe...    29  0.000000   \n",
       "6183  semtabu lubrificantes produtoseroticos hotflow...    18  0.000000   \n",
       "6184  02 인천 팔로워 맞팔 노보시비르스크 sunflowe quarantine siber...    22  0.000000   \n",
       "\n",
       "             1         2         3  \n",
       "0     0.000000  0.826356  0.000000  \n",
       "1     0.000000  0.826353  0.000000  \n",
       "2     0.018171  0.943400  0.020277  \n",
       "3     0.012781  0.839083  0.013162  \n",
       "4     0.000000  0.934627  0.047140  \n",
       "...        ...       ...       ...  \n",
       "6180  0.000000  0.832052  0.151625  \n",
       "6181  0.000000  0.959000  0.000000  \n",
       "6182  0.107232  0.840710  0.043940  \n",
       "6183  0.000000  0.975708  0.000000  \n",
       "6184  0.000000  0.942392  0.041269  \n",
       "\n",
       "[6185 rows x 21 columns]"
      ]
     },
     "execution_count": 3,
     "metadata": {},
     "output_type": "execute_result"
    }
   ],
   "source": [
    "# Load dataframe\n",
    "# Here for one line you have 'id' related to images and 'txt' from the hashtags\n",
    "\n",
    "df = pd.read_csv(' ')\n",
    "df = df.drop('Unnamed: 0', 1) # drop unwanted column\n",
    "df"
   ]
  },
  {
   "cell_type": "markdown",
   "metadata": {},
   "source": [
    "We try some ways to split the Dataframe:\n",
    "\n",
    "* By number of words per post\n",
    "* By localisation (countries)\n",
    "* By days\n",
    "\n",
    "Then see what is significant or not with topic modeling method"
   ]
  },
  {
   "cell_type": "code",
   "execution_count": 4,
   "metadata": {},
   "outputs": [
    {
     "name": "stdout",
     "output_type": "stream",
     "text": [
      "count    6185.000000\n",
      "mean       15.133711\n",
      "std         9.981147\n",
      "min         1.000000\n",
      "25%         6.000000\n",
      "50%        13.000000\n",
      "75%        24.000000\n",
      "max        60.000000\n",
      "Name: split, dtype: float64\n"
     ]
    }
   ],
   "source": [
    "# Describe words per post\n",
    "\n",
    "print(df.split.describe())"
   ]
  },
  {
   "cell_type": "code",
   "execution_count": 5,
   "metadata": {},
   "outputs": [
    {
     "name": "stdout",
     "output_type": "stream",
     "text": [
      "count     6185.000000\n",
      "mean        94.066774\n",
      "std        718.399014\n",
      "min          0.000000\n",
      "25%         11.000000\n",
      "50%         24.000000\n",
      "75%         53.000000\n",
      "max      45871.000000\n",
      "Name: likes, dtype: float64\n"
     ]
    }
   ],
   "source": [
    "# Describe likes per post\n",
    "\n",
    "print(df.likes.describe())"
   ]
  },
  {
   "cell_type": "code",
   "execution_count": 9,
   "metadata": {},
   "outputs": [
    {
     "data": {
      "text/plain": [
       "Brazil                      174\n",
       "France                       76\n",
       "India                        74\n",
       "Germany                      50\n",
       "Italy                        36\n",
       "Iran Islamic Republic of     36\n",
       "Colombia                     29\n",
       "Canada                       26\n",
       "Indonesia                    25\n",
       "Japan                        17\n",
       "Chile                        13\n",
       "Mexico                       11\n",
       "Ecuador                       9\n",
       "Croatia                       7\n",
       "Greece                        7\n",
       "Costa Rica                    5\n",
       "Israel                        5\n",
       "Argentina                     4\n",
       "Denmark                       4\n",
       "Korea Republic of             4\n",
       "Name: name, dtype: int64"
      ]
     },
     "execution_count": 9,
     "metadata": {},
     "output_type": "execute_result"
    }
   ],
   "source": [
    "# About coutries\n",
    "\n",
    "(df.name.value_counts())[1:21]"
   ]
  },
  {
   "cell_type": "code",
   "execution_count": 10,
   "metadata": {},
   "outputs": [],
   "source": [
    "# Try different length of words per posts (row), or country, likes, etc.\n",
    "# Then build a list (all posts) of lists (hashtags per posts)\n",
    "\n",
    "#df = df[(df['name'] == 'United States')] # here we try the United States\n",
    "#dff = df[(df['split'] > 27)] # last quartile\n",
    "#dff = df[(df['likes'] > 54)] # last quartile\n",
    "\n",
    "list_hashtags = []\n",
    "\n",
    "for i in df.txt:\n",
    "    list_hashtags.append(i)"
   ]
  },
  {
   "cell_type": "code",
   "execution_count": null,
   "metadata": {},
   "outputs": [],
   "source": [
    "# Or load '.txt' file\n",
    "\n",
    "#list_hashtags = open(r\"\",\"w+\")"
   ]
  },
  {
   "cell_type": "code",
   "execution_count": 11,
   "metadata": {},
   "outputs": [],
   "source": [
    "# Text or list to a list of words\n",
    "\n",
    "def get_words(text):\n",
    "    \n",
    "    words = text.split(\" \")\n",
    "    return words\n",
    "\n",
    "# In our case it's still a list of list but words are now set as words\n",
    "\n",
    "final_list = []\n",
    "for e in list_hashtags:\n",
    "    l = []\n",
    "    l = get_words(e)\n",
    "    final_list.append(l)"
   ]
  },
  {
   "cell_type": "code",
   "execution_count": null,
   "metadata": {},
   "outputs": [],
   "source": [
    "# We also try without the main hashtag\n",
    "\n",
    "char_list = ['venus']\n",
    "final_list = [l for l in final_list if all(ch not in l for ch in char_list)] "
   ]
  },
  {
   "cell_type": "markdown",
   "metadata": {},
   "source": [
    "## 2) Topic modelling functions\n",
    "\n",
    "* Topic number consistency\n",
    "* LDA with TF-IDF\n",
    "* LDA with Gensim\n",
    "* Model to Dataframe\n",
    "* Wordcloud\n",
    "* LDAvis\n",
    "\n",
    "*At first all the functions are explained, then you can use them at the next step*"
   ]
  },
  {
   "cell_type": "code",
   "execution_count": 12,
   "metadata": {},
   "outputs": [],
   "source": [
    "# LDA model with TF-IDF\n",
    "\n",
    "\n",
    "def model_LDA_tfidf(list_lemma, num_topics: int, passes: int, workers: int, printer='False'):\n",
    "\n",
    "    # Create a Gensim dictionary\n",
    "    array_lemma = np.array(list_lemma)\n",
    "    dictionary = gensim.corpora.Dictionary(array_lemma)\n",
    "\n",
    "    # Create a 'bag of words' with doc2bow function\n",
    "    bow_corpus = [dictionary.doc2bow(doc) for doc in array_lemma]\n",
    "\n",
    "    # Corpus creation based on a 'bag of words'\n",
    "    tfidf = models.TfidfModel(bow_corpus)\n",
    "    corpus_tfidf = tfidf[bow_corpus]\n",
    "\n",
    "\n",
    "    # Model learning \n",
    "    lda_model = gensim.models.LdaMulticore(corpus_tfidf, id2word=dictionary, num_topics=num_topics, passes=passes, workers=workers)\n",
    "\n",
    "    if printer=='True':\n",
    "        pprint(lda_model.print_topics())\n",
    "\n",
    "    return lda_model, bow_corpus"
   ]
  },
  {
   "cell_type": "code",
   "execution_count": 13,
   "metadata": {},
   "outputs": [],
   "source": [
    "# LDA model with Gensim\n",
    "\n",
    "def model_LDA_gensim(list_lemma, num_topics: int, passes: int, iterations: int, printer='False'):\n",
    "\n",
    "    # Creat a Gensim dictionary\n",
    "    array_lemma = np.array(list_lemma)\n",
    "    dictionary = gensim.corpora.Dictionary(array_lemma)\n",
    "\n",
    "    # Create a 'bag of words' with doc2bow function\n",
    "    bow_corpus = [dictionary.doc2bow(doc) for doc in array_lemma]\n",
    "\n",
    "    # Model learning \n",
    "    lda_model = gensim.models.ldamodel.LdaModel(corpus=bow_corpus, id2word=dictionary,num_topics=num_topics, random_state=100, update_every=1, chunksize=1000, passes=passes, alpha='symmetric', iterations=iterations, per_word_topics=True)\n",
    "\n",
    "    if printer == 'True':\n",
    "        pprint(lda_model.print_topics())\n",
    "\n",
    "    return lda_model, bow_corpus"
   ]
  },
  {
   "cell_type": "code",
   "execution_count": 14,
   "metadata": {},
   "outputs": [],
   "source": [
    "# Calcul coherence of the model\n",
    "\n",
    "def model_coherence(lda_model, list_lemma):\n",
    "\n",
    "    # Creat Gensim dictionary\n",
    "    array_lemma = np.array(list_lemma)\n",
    "    dic_gensim = gensim.corpora.Dictionary(array_lemma)\n",
    "\n",
    "    # Score consistency\n",
    "    coherence_model_lda = CoherenceModel(model=lda_model, texts=list_lemma, dictionary=dic_gensim, coherence='c_v')\n",
    "    coherence_lda = coherence_model_lda.get_coherence()\n",
    "\n",
    "    return coherence_lda"
   ]
  },
  {
   "cell_type": "code",
   "execution_count": 15,
   "metadata": {},
   "outputs": [],
   "source": [
    "# Choose best topic number for TF-IDF model\n",
    "\n",
    "def best_topics_tfidf(list_lemma, max_num:int, passes:int, workers:int):\n",
    "    \n",
    "    list_model = []\n",
    "    list_bow = []\n",
    "    list_coherence = []\n",
    "    list_topic_number = []\n",
    "    \n",
    "    for i in tqdm(range(max_num)):\n",
    "        model, bow = model_LDA_tfidf(list_lemma, num_topics=i+1, passes=passes, workers=workers)\n",
    "        list_model.append(model)\n",
    "        list_bow.append(bow)\n",
    "        list_coherence.append(model_coherence(model, list_lemma))\n",
    "        list_topic_number.append(i+1)\n",
    "\n",
    "        #Plot number of topics (x) by coherence (y)\n",
    "    fig = plt.figure(figsize=(7,5))\n",
    "    ax1 = fig.add_subplot(1,1,1)\n",
    "    x = np.array(list_topic_number)\n",
    "    y = np.array(list_coherence)\n",
    "    plt.plot(x, y)\n",
    "    ax1.set_ylabel(\"Number of topics\")\n",
    "    ax1.set_ylabel(\"Coherence score\")\n",
    "    ax1.xaxis.set_major_locator(ticker.AutoLocator())\n",
    "    plt.title(\"Coherence score by topics number for {} passes for TF-IDF\".format(passes))\n",
    "    plt.show()\n",
    "        \n",
    "    return fig, list_model, list_bow   "
   ]
  },
  {
   "cell_type": "code",
   "execution_count": 16,
   "metadata": {},
   "outputs": [],
   "source": [
    "# Choose best topic number for Gensim model\n",
    "\n",
    "def best_topics_gensim(list_lemma, max_num:int, passes:int, iterations:int):\n",
    "    \n",
    "    list_model = []\n",
    "    list_bow = []\n",
    "    list_coherence = []\n",
    "    list_topic_number = []\n",
    "    \n",
    "    for i in tqdm(range(max_num)):\n",
    "        model, bow = model_LDA_gensim(list_lemma, num_topics=i+1, passes=passes, iterations=iterations)\n",
    "        list_model.append(model)\n",
    "        list_bow.append(bow)\n",
    "        list_coherence.append(model_coherence(model, list_lemma))\n",
    "        list_topic_number.append(i+1)\n",
    "\n",
    "        #Plot number of topics (x) by coherence (y)\n",
    "    fig = plt.figure(figsize=(7,5))\n",
    "    ax1 = fig.add_subplot(1,1,1)\n",
    "    x = np.array(list_topic_number)\n",
    "    y = np.array(list_coherence)\n",
    "    plt.plot(x, y)\n",
    "    ax1.set_ylabel(\"Number of topics\")\n",
    "    ax1.set_ylabel(\"Coherence score\")\n",
    "    ax1.xaxis.set_major_locator(ticker.AutoLocator())\n",
    "    plt.title(\"Coherence score by topics number for {} passes for Gensim\".format(passes))\n",
    "    plt.show()\n",
    "        \n",
    "    return fig, list_model, list_bow   "
   ]
  },
  {
   "cell_type": "code",
   "execution_count": 17,
   "metadata": {},
   "outputs": [],
   "source": [
    "# Save best topic to dataframe \n",
    "# For each topic a new column\n",
    "# For each row percent of each topic\n",
    "\n",
    "def topic_to_df(n: int, save_name, list_model, list_bow):\n",
    "\n",
    "    if list_model is list_modelG:\n",
    "        \n",
    "        table = np.zeros((len(df), n), dtype= float)\n",
    "        for i, row_list in enumerate(list_model[n-1][list_bow[n-1]]):\n",
    "            for el in row_list[0] :\n",
    "                table[i,el[0]] = el[1]\n",
    "                \n",
    "    else:\n",
    "        table = np.zeros((len(df), n), dtype= float)\n",
    "        for i, row_list in enumerate(list_model[n-1][list_bow[n-1]]):\n",
    "            for el in row_list :\n",
    "                table[i,el[0]] = el[1]\n",
    "        \n",
    "    df2 = pd.DataFrame(data = table, index = df[\"id\"].tolist(), columns = [n for n in range(0,n)])\n",
    "    df2.reset_index(inplace=True)\n",
    "    df2 = df2.rename(columns = {'index':'id'})\n",
    "    dt = pd.merge(df, df2, on = \"id\")\n",
    "    \n",
    "    if save_name is not None:\n",
    "        dt.to_csv( str(save_name) + '.csv')"
   ]
  },
  {
   "cell_type": "code",
   "execution_count": 18,
   "metadata": {},
   "outputs": [],
   "source": [
    "# Dataframe from LDA (TF-IDF or Gensim) model\n",
    "\n",
    "def model_to_dataframe(lda_model):\n",
    "    \n",
    "    df = pd.DataFrame()\n",
    "\n",
    "    topics = lda_model.show_topics(formatted=False)\n",
    "    for topic, keywords in topics:\n",
    "        df = df.append(pd.Series([int(topic), keywords]), ignore_index=True)\n",
    "\n",
    "    df.columns = ['Topic_No', 'Keywords']\n",
    "\n",
    "    return df"
   ]
  },
  {
   "cell_type": "code",
   "execution_count": 19,
   "metadata": {},
   "outputs": [],
   "source": [
    "# Wordcloud for each topic - size is related to weight of word in the topic\n",
    "\n",
    "def wordcloud(lda_model):\n",
    "\n",
    "    cols = [color for name, color in mcolors.TABLEAU_COLORS.items()]\n",
    "\n",
    "    # Stopwords are common words in hashtags (see above the list)\n",
    "    cloud = WordCloud(stopwords=[], background_color='white', width=2500, height=1800, max_words=10, colormap='tab10', color_func=lambda *args, **kwargs: cols[i], prefer_horizontal=1.0)\n",
    "\n",
    "    topics = lda_model.show_topics(formatted=False)\n",
    "    tnumb = len(topics)\n",
    "    \n",
    "    # Plot parameters\n",
    "    fig, axes = plt.subplots(1, (tnumb), figsize=(10,10), sharex=True, sharey=True)\n",
    "\n",
    "    for i, ax in enumerate(axes.flatten()):\n",
    "        fig.add_subplot(ax)\n",
    "        topic_words = dict(topics[i][1])\n",
    "        cloud.generate_from_frequencies(topic_words, max_font_size=300)\n",
    "        plt.gca().imshow(cloud)\n",
    "        plt.gca().set_title('Topic ' + str(i+1), fontdict=dict(size=16)) #+1 ajouté\n",
    "        plt.gca().axis('off')\n",
    "\n",
    "    plt.subplots_adjust(wspace=0, hspace=0)\n",
    "    plt.axis('off')\n",
    "    plt.margins(x=0, y=0)\n",
    "    plt.tight_layout()\n",
    "    plt.show()\n",
    "    \n",
    "    return fig"
   ]
  },
  {
   "cell_type": "code",
   "execution_count": 20,
   "metadata": {},
   "outputs": [],
   "source": [
    "# Visualize occurences and weight for words related to a topic\n",
    "\n",
    "def word_count_topic_keywords(lda_model, list_lemma):\n",
    "\n",
    "    # Create Dataframe with topics, words weight and occurences \n",
    "    topics = lda_model.show_topics(formatted=False)\n",
    "    tnumb = len(topics)\n",
    "    data_flat = [w for w_list in list_lemma for w in w_list]\n",
    "    counter = Counter(data_flat)\n",
    "    out = []\n",
    "    for i, topic in topics:\n",
    "        for word, weight in topic:\n",
    "            out.append([word, i , weight, counter[word]])\n",
    "    df = pd.DataFrame(out, columns=['word', 'topic_id', 'importance', 'word_count'])\n",
    "\n",
    "    # Plot parameters\n",
    "    fig, axes = plt.subplots( tnumb, 1, figsize=(24,16), sharey=True, dpi=160)\n",
    "    cols = [color for name, color in mcolors.TABLEAU_COLORS.items()]\n",
    "    for i, ax in enumerate(axes.flatten()):\n",
    "        ax.bar(x='word', height=\"word_count\", data=df.loc[df.topic_id==i, :], color=cols[i], width=0.5, alpha=0.3, label='Word Count')\n",
    "        ax_twin = ax.twinx()\n",
    "        ax_twin.bar(x='word', height=\"importance\", data=df.loc[df.topic_id==i, :], color=cols[i], width=0.2, label='Weights')\n",
    "        ax.set_ylabel('Word Count', color=cols[i])\n",
    "        ax_twin.set_ylim(0, 0.030); ax.set_ylim(0, )\n",
    "        ax.set_title('Topic : ' + str(i+1), color=cols[i], fontsize=16) #+1 ajouté\n",
    "        ax.tick_params(axis='y', left=False)\n",
    "        ax.set_xticklabels(df.loc[df.topic_id==i, 'word'], rotation=30, horizontalalignment= 'right')\n",
    "        ax.legend(loc='upper left'); ax_twin.legend(loc='upper right')\n",
    "    fig.tight_layout(w_pad=2)\n",
    "    fig.suptitle('Word count and importance of topic keywords', fontsize=22, y=1.05)\n",
    "    plt.show()\n",
    "    \n",
    "    return fig"
   ]
  },
  {
   "cell_type": "code",
   "execution_count": 21,
   "metadata": {},
   "outputs": [],
   "source": [
    "# LDAvis visualisation\n",
    "\n",
    "def LDA_vis(lda_model, list_lemma, name_html):\n",
    "\n",
    "    # Create Gensim dictionary\n",
    "    array_lemma = np.array(list_lemma)\n",
    "    dictionary = gensim.corpora.Dictionary(array_lemma)\n",
    "\n",
    "    # Create a 'bag of words' with doc2bow function\n",
    "    bow_corpus = [dictionary.doc2bow(doc) for doc in array_lemma]\n",
    "\n",
    "    # Data for html\n",
    "    visualisation = pyLDAvis.gensim.prepare(lda_model, bow_corpus, dictionary)\n",
    "    pyLDAvis.save_html(visualisation, str(name_html)+'_LDAvis.html')\n",
    "\n",
    "    # Display\n",
    "    pyLDAvis.show(visualisation)"
   ]
  },
  {
   "cell_type": "code",
   "execution_count": 22,
   "metadata": {},
   "outputs": [],
   "source": [
    "def doc_topic_scores_as_df(df, lda, bow_corpus,):\n",
    "    \n",
    "    table = np.zeros((len(df), 4), dtype= float)\n",
    "    for i, row_list in enumerate(lda[bow_corpus]):\n",
    "        for el in row_list[0] :\n",
    "            table[i,el[0]] = el[1]\n",
    "    df = pd.DataFrame(data = table, index = df[\"id\"].tolist(), columns = [n for n in range(0,4)])\n",
    "    \n",
    "    return df"
   ]
  },
  {
   "cell_type": "markdown",
   "metadata": {},
   "source": [
    "## 3) Topic modelling application\n",
    "\n",
    "Use the functions seen above and save result as you wish\n",
    "Best is to do all steps with one model, then try the other\n"
   ]
  },
  {
   "cell_type": "code",
   "execution_count": null,
   "metadata": {},
   "outputs": [],
   "source": [
    "# LDA TF-IDF model\n",
    "\n",
    "#lda_tfidf_model, bow_tfidf_corpus = model_LDA_tfidf(final_list, num_topics=4, passes=1, workers=4)"
   ]
  },
  {
   "cell_type": "code",
   "execution_count": null,
   "metadata": {},
   "outputs": [],
   "source": [
    "# LDA Gensim model\n",
    "\n",
    "#lda_gensim_model, bow_gensim_corpus = model_LDA_gensim(final_list, num_topics=1, passes=1, iterations=1)"
   ]
  },
  {
   "cell_type": "code",
   "execution_count": null,
   "metadata": {},
   "outputs": [],
   "source": [
    "# Coherence score\n",
    "\n",
    "#gensim_coherence = model_coherence(lda_model= lda_gensim_model , list_lemma=final_list)\n",
    "#tfidf_coherence = model_coherence(lda_model= lda_tfidf_model , list_lemma=final_list)\n",
    "\n",
    "#pprint('Gensim :' + str(gensim_coherence))\n",
    "#pprint('TF-IDF :' + str(tfidf_coherence))"
   ]
  },
  {
   "cell_type": "code",
   "execution_count": 23,
   "metadata": {},
   "outputs": [
    {
     "name": "stderr",
     "output_type": "stream",
     "text": [
      "  0%|          | 0/10 [00:00<?, ?it/s]/Users/JR/.pyenv/versions/topic/lib/python3.6/site-packages/ipykernel/__main__.py:7: VisibleDeprecationWarning: Creating an ndarray from ragged nested sequences (which is a list-or-tuple of lists-or-tuples-or ndarrays with different lengths or shapes) is deprecated. If you meant to do this, you must specify 'dtype=object' when creating the ndarray\n",
      "/Users/JR/.pyenv/versions/topic/lib/python3.6/site-packages/ipykernel/__main__.py:6: VisibleDeprecationWarning: Creating an ndarray from ragged nested sequences (which is a list-or-tuple of lists-or-tuples-or ndarrays with different lengths or shapes) is deprecated. If you meant to do this, you must specify 'dtype=object' when creating the ndarray\n",
      "100%|██████████| 10/10 [32:16<00:00, 193.64s/it]\n"
     ]
    },
    {
     "data": {
      "image/png": "[encoded data removed]",
      "text/plain": [
       "<Figure size 504x360 with 1 Axes>"
      ]
     },
     "metadata": {
      "needs_background": "light"
     },
     "output_type": "display_data"
    }
   ],
   "source": [
    "# Best number of topics for TF-IDF\n",
    "\n",
    "plotT, list_modelT, list_bowT = best_topics_tfidf(final_list, max_num=10, passes=100 ,workers=4)"
   ]
  },
  {
   "cell_type": "code",
   "execution_count": null,
   "metadata": {},
   "outputs": [],
   "source": [
    "# Save plot as you wish\n",
    "\n",
    "plotT.savefig(input(\"Enter plot name with '' : \") + '_tfidf_topics.svg')"
   ]
  },
  {
   "cell_type": "code",
   "execution_count": 24,
   "metadata": {},
   "outputs": [
    {
     "name": "stderr",
     "output_type": "stream",
     "text": [
      "  0%|          | 0/10 [00:00<?, ?it/s]/Users/JR/.pyenv/versions/topic/lib/python3.6/site-packages/ipykernel/__main__.py:6: VisibleDeprecationWarning: Creating an ndarray from ragged nested sequences (which is a list-or-tuple of lists-or-tuples-or ndarrays with different lengths or shapes) is deprecated. If you meant to do this, you must specify 'dtype=object' when creating the ndarray\n",
      "100%|██████████| 10/10 [27:53<00:00, 167.37s/it]\n"
     ]
    },
    {
     "data": {
      "image/png": "[encoded data removed]",
      "text/plain": [
       "<Figure size 504x360 with 1 Axes>"
      ]
     },
     "metadata": {
      "needs_background": "light"
     },
     "output_type": "display_data"
    }
   ],
   "source": [
    "# Best number of topics for Gensim\n",
    "\n",
    "plotG, list_modelG, list_bowG = best_topics_gensim(final_list, max_num=10, passes=100, iterations=100)"
   ]
  },
  {
   "cell_type": "code",
   "execution_count": null,
   "metadata": {},
   "outputs": [],
   "source": [
    "# Save plot as you wish\n",
    "\n",
    "plotG.savefig(input(\"Enter plot name with '' : \") + '_gensim_topics.svg')"
   ]
  },
  {
   "cell_type": "code",
   "execution_count": null,
   "metadata": {},
   "outputs": [],
   "source": [
    "#Choose the best topics number and save it to a CSV\n",
    "# For each topic a new column - where 'n' is the number of topic\n",
    "# For each row percent of each topic\n",
    "\n",
    "topic_to_df(n = 5, save_name='060321_Gensim4', list_model = list_modelG, list_bow = list_bowG)"
   ]
  },
  {
   "cell_type": "code",
   "execution_count": 29,
   "metadata": {},
   "outputs": [
    {
     "data": {
      "text/html": [
       "<div>\n",
       "<style scoped>\n",
       "    .dataframe tbody tr th:only-of-type {\n",
       "        vertical-align: middle;\n",
       "    }\n",
       "\n",
       "    .dataframe tbody tr th {\n",
       "        vertical-align: top;\n",
       "    }\n",
       "\n",
       "    .dataframe thead th {\n",
       "        text-align: right;\n",
       "    }\n",
       "</style>\n",
       "<table border=\"1\" class=\"dataframe\">\n",
       "  <thead>\n",
       "    <tr style=\"text-align: right;\">\n",
       "      <th></th>\n",
       "      <th>Topic_No</th>\n",
       "      <th>Keywords</th>\n",
       "    </tr>\n",
       "  </thead>\n",
       "  <tbody>\n",
       "    <tr>\n",
       "      <th>0</th>\n",
       "      <td>0.0</td>\n",
       "      <td>[(venus, 0.01469376), (luna, 0.002916159), (ta...</td>\n",
       "    </tr>\n",
       "    <tr>\n",
       "      <th>1</th>\n",
       "      <td>1.0</td>\n",
       "      <td>[(moon, 0.011865485), (nightsky, 0.006039405),...</td>\n",
       "    </tr>\n",
       "    <tr>\n",
       "      <th>2</th>\n",
       "      <td>2.0</td>\n",
       "      <td>[(peace, 0.0015821204), (love, 0.0015814867), ...</td>\n",
       "    </tr>\n",
       "    <tr>\n",
       "      <th>3</th>\n",
       "      <td>3.0</td>\n",
       "      <td>[(gemini, 0.0016108259), (taurus, 0.0013117561...</td>\n",
       "    </tr>\n",
       "    <tr>\n",
       "      <th>4</th>\n",
       "      <td>4.0</td>\n",
       "      <td>[(moon, 0.0014268896), (astroloji, 0.001340408...</td>\n",
       "    </tr>\n",
       "  </tbody>\n",
       "</table>\n",
       "</div>"
      ],
      "text/plain": [
       "   Topic_No                                           Keywords\n",
       "0       0.0  [(venus, 0.01469376), (luna, 0.002916159), (ta...\n",
       "1       1.0  [(moon, 0.011865485), (nightsky, 0.006039405),...\n",
       "2       2.0  [(peace, 0.0015821204), (love, 0.0015814867), ...\n",
       "3       3.0  [(gemini, 0.0016108259), (taurus, 0.0013117561...\n",
       "4       4.0  [(moon, 0.0014268896), (astroloji, 0.001340408..."
      ]
     },
     "execution_count": 29,
     "metadata": {},
     "output_type": "execute_result"
    }
   ],
   "source": [
    "# Model to dataframe - choose between 'list_modelT[n]' or 'list_modelG[n]'\n",
    "# Where 'n' is the number of the topic in the list (begin at 0 not 1)\n",
    "\n",
    "df_model = model_to_dataframe(lda_model = list_modelT[4] )\n",
    "df_model"
   ]
  },
  {
   "cell_type": "code",
   "execution_count": 31,
   "metadata": {},
   "outputs": [
    {
     "name": "stdin",
     "output_type": "stream",
     "text": [
      "Enter Dataframe name with '' :  060321_TFIDF5\n"
     ]
    }
   ],
   "source": [
    "# Save LDA model dataframe as you wish\n",
    "\n",
    "df_model.to_csv(input(\"Enter Dataframe name with '' : \") + '_model.csv')"
   ]
  },
  {
   "cell_type": "code",
   "execution_count": 30,
   "metadata": {
    "scrolled": true
   },
   "outputs": [
    {
     "data": {
      "image/png": "[encoded data removed]",
      "text/plain": [
       "<Figure size 720x720 with 5 Axes>"
      ]
     },
     "metadata": {
      "needs_background": "light"
     },
     "output_type": "display_data"
    }
   ],
   "source": [
    "# Model to dataframe - choose between 'list_modelT[n]' or 'list_modelG[n]'\n",
    "# Where 'n' is the number of the topic in the list (begin at 0 not 1)\n",
    "\n",
    "plot = wordcloud(lda_model = list_modelT[4])"
   ]
  },
  {
   "cell_type": "code",
   "execution_count": null,
   "metadata": {},
   "outputs": [],
   "source": [
    "# Save Wordcloud plot as you wish\n",
    "\n",
    "plot.savefig(input(\"Enter plot name with '' : \") + '_wordcloud.svg')"
   ]
  },
  {
   "cell_type": "code",
   "execution_count": null,
   "metadata": {
    "scrolled": true
   },
   "outputs": [],
   "source": [
    "# Model to dataframe - choose between 'list_modelT[n]' or 'list_modelG[n]'\n",
    "# Where 'n' is the number of the topic in the list (begin at 0 not 1)\n",
    "\n",
    "plot = word_count_topic_keywords(lda_model= list_modelG[3], list_lemma = final_list)"
   ]
  },
  {
   "cell_type": "code",
   "execution_count": null,
   "metadata": {},
   "outputs": [],
   "source": [
    "# Save word count and topic keywords plot as you wish\n",
    "\n",
    "plot.savefig(input(\"Enter plot name with '' : \") + '_word_count_topic_keywords.svg')"
   ]
  },
  {
   "cell_type": "code",
   "execution_count": 27,
   "metadata": {
    "scrolled": true
   },
   "outputs": [
    {
     "name": "stderr",
     "output_type": "stream",
     "text": [
      "/Users/JR/.pyenv/versions/topic/lib/python3.6/site-packages/ipykernel/__main__.py:6: VisibleDeprecationWarning: Creating an ndarray from ragged nested sequences (which is a list-or-tuple of lists-or-tuples-or ndarrays with different lengths or shapes) is deprecated. If you meant to do this, you must specify 'dtype=object' when creating the ndarray\n"
     ]
    },
    {
     "name": "stdout",
     "output_type": "stream",
     "text": [
      "\n",
      "Note: if you're in the IPython notebook, pyLDAvis.show() is not the best command\n",
      "      to use. Consider using pyLDAvis.display(), or pyLDAvis.enable_notebook().\n",
      "      See more information at http://pyLDAvis.github.io/quickstart.html .\n",
      "\n",
      "You must interrupt the kernel to end this command\n",
      "\n",
      "Serving to http://127.0.0.1:8889/    [Ctrl-C to exit]\n"
     ]
    },
    {
     "name": "stderr",
     "output_type": "stream",
     "text": [
      "127.0.0.1 - - [12/Mar/2021 08:59:09] \"GET / HTTP/1.1\" 200 -\n",
      "127.0.0.1 - - [12/Mar/2021 08:59:09] \"GET /LDAvis.css HTTP/1.1\" 200 -\n",
      "127.0.0.1 - - [12/Mar/2021 08:59:09] \"GET /d3.js HTTP/1.1\" 200 -\n",
      "127.0.0.1 - - [12/Mar/2021 08:59:09] \"GET /LDAvis.js HTTP/1.1\" 200 -\n",
      "127.0.0.1 - - [12/Mar/2021 08:59:10] code 404, message Not Found\n",
      "127.0.0.1 - - [12/Mar/2021 08:59:10] \"GET /favicon.ico HTTP/1.1\" 404 -\n"
     ]
    },
    {
     "name": "stdout",
     "output_type": "stream",
     "text": [
      "\n",
      "stopping Server...\n"
     ]
    }
   ],
   "source": [
    "# Model to dataframe - choose between 'list_modelT[n]' or 'list_modelG[n]'\n",
    "# Where 'n' is the number of the topic in the list (begin at 0 not 1)\n",
    "# Choose under which name to save the visualisation with 'name_html'\n",
    "\n",
    "lda_vis = LDA_vis(lda_model=list_modelG[5], list_lemma=final_list, name_html='060321_TFIDF6_LDAvis')"
   ]
  },
  {
   "cell_type": "code",
   "execution_count": null,
   "metadata": {},
   "outputs": [],
   "source": []
  }
 ],
 "metadata": {
  "kernelspec": {
   "display_name": "topic",
   "language": "python",
   "name": "topic"
  },
  "language_info": {
   "codemirror_mode": {
    "name": "ipython",
    "version": 3
   },
   "file_extension": ".py",
   "mimetype": "text/x-python",
   "name": "python",
   "nbconvert_exporter": "python",
   "pygments_lexer": "ipython3",
   "version": "3.6.9"
  }
 },
 "nbformat": 4,
 "nbformat_minor": 4
}
