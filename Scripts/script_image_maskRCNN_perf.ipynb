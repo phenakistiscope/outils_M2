{
 "cells": [
  {
   "cell_type": "markdown",
   "id": "lesbian-norwegian",
   "metadata": {},
   "source": [
    "# Accuracy, recall, precision\n",
    "\n",
    "* Accuracy = TruePositives + TrueNegatives / Total\n",
    "* Recall = TruePositives / TruePositives + FalseNegatives\n",
    "* Precision = TruePositives / TruePositives + FalsePositives\n",
    "\n",
    "**Definitions**\n",
    "* True positive represents the value of correct predictions of positives out of actual positive cases. \n",
    "* False positive represents the value of incorrect positive predictions.\n",
    "* True negative represents the value of correct predictions of negatives out of actual negative cases. \n",
    "* False negative represents the value of incorrect negative predictions. \n",
    "\n",
    "*A corpus is made with 50 images (50venus)*\n",
    "\n",
    "from: https://vitalflux.com/accuracy-precision-recall-f1-score-python-example/"
   ]
  },
  {
   "cell_type": "markdown",
   "id": "vertical-intelligence",
   "metadata": {},
   "source": [
    "# Mesures for MaskRCNN"
   ]
  },
  {
   "cell_type": "code",
   "execution_count": 40,
   "id": "buried-disability",
   "metadata": {},
   "outputs": [],
   "source": [
    "from PIL import Image\n",
    "\n",
    "class_names = ['BG', 'person', 'bicycle', 'car', 'motorcycle', 'airplane',\n",
    "               'bus', 'train', 'truck', 'boat', 'traffic light',\n",
    "               'fire hydrant', 'stop sign', 'parking meter', 'bench', 'bird',\n",
    "               'cat', 'dog', 'horse', 'sheep', 'cow', 'elephant', 'bear',\n",
    "               'zebra', 'giraffe', 'backpack', 'umbrella', 'handbag', 'tie',\n",
    "               'suitcase', 'frisbee', 'skis', 'snowboard', 'sports ball',\n",
    "               'kite', 'baseball bat', 'baseball glove', 'skateboard',\n",
    "               'surfboard', 'tennis racket', 'bottle', 'wine glass', 'cup',\n",
    "               'fork', 'knife', 'spoon', 'bowl', 'banana', 'apple',\n",
    "               'sandwich', 'orange', 'broccoli', 'carrot', 'hot dog', 'pizza',\n",
    "               'donut', 'cake', 'chair', 'couch', 'potted plant', 'bed',\n",
    "               'dining table', 'toilet', 'tv', 'laptop', 'mouse', 'remote',\n",
    "               'keyboard', 'cell phone', 'microwave', 'oven', 'toaster',\n",
    "               'sink', 'refrigerator', 'book', 'clock', 'vase', 'scissors',\n",
    "               'teddy bear', 'hair drier', 'toothbrush']\n",
    "\n",
    "class_id = range(0,81)\n",
    "class_dict = dict(zip(class_id, class_names))"
   ]
  },
  {
   "cell_type": "code",
   "execution_count": 41,
   "id": "aboriginal-roman",
   "metadata": {},
   "outputs": [],
   "source": [
    "## Variables informations\n",
    "\n",
    "#TruePositives\n",
    "tp = 19\n",
    "\n",
    "#TrueNegatives\n",
    "tn = 12\n",
    "\n",
    "#FalseNegatives\n",
    "fn = 3\n",
    "\n",
    "#FalsePositives\n",
    "fp = 9\n"
   ]
  },
  {
   "cell_type": "code",
   "execution_count": 42,
   "id": "acceptable-package",
   "metadata": {},
   "outputs": [
    {
     "name": "stdout",
     "output_type": "stream",
     "text": [
      "Accuracy is at 72.09 %\n"
     ]
    }
   ],
   "source": [
    "# Accuracy\n",
    "\n",
    "a = round(((tp + tn)/(tp + tn + fn + fp))*100, 2)\n",
    "print(f\"Accuracy is at {a} %\")"
   ]
  },
  {
   "cell_type": "code",
   "execution_count": 43,
   "id": "owned-collar",
   "metadata": {},
   "outputs": [
    {
     "name": "stdout",
     "output_type": "stream",
     "text": [
      "Recall is at 86.36 %\n"
     ]
    }
   ],
   "source": [
    "# Recall\n",
    "\n",
    "r = round((tp /(tp + fn))*100, 2)\n",
    "print(f\"Recall is at {r} %\")"
   ]
  },
  {
   "cell_type": "code",
   "execution_count": 44,
   "id": "experienced-edmonton",
   "metadata": {},
   "outputs": [
    {
     "name": "stdout",
     "output_type": "stream",
     "text": [
      "Precision is at 67.86 %\n"
     ]
    }
   ],
   "source": [
    "# Precision\n",
    "\n",
    "p = round((tp /(tp + fp))*100, 2)\n",
    "print(f\"Precision is at {p} %\")"
   ]
  }
 ],
 "metadata": {
  "kernelspec": {
   "display_name": "Python 3",
   "language": "python",
   "name": "python3"
  },
  "language_info": {
   "codemirror_mode": {
    "name": "ipython",
    "version": 3
   },
   "file_extension": ".py",
   "mimetype": "text/x-python",
   "name": "python",
   "nbconvert_exporter": "python",
   "pygments_lexer": "ipython3",
   "version": "3.8.7"
  }
 },
 "nbformat": 4,
 "nbformat_minor": 5
}
